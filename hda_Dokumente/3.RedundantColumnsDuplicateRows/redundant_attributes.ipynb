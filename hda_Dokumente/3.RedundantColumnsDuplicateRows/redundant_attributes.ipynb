{
 "cells": [
  {
   "cell_type": "markdown",
   "metadata": {},
   "source": [
    "### Finding redundant Variables"
   ]
  },
  {
   "cell_type": "code",
   "execution_count": 30,
   "metadata": {},
   "outputs": [],
   "source": [
    "import pandas as pd\n",
    "from scipy.stats import chi2_contingency\n",
    "from sklearn.feature_selection import chi2"
   ]
  },
  {
   "cell_type": "code",
   "execution_count": 31,
   "metadata": {},
   "outputs": [],
   "source": [
    "df = pd.read_pickle('nhl_short.pckl')"
   ]
  },
  {
   "cell_type": "code",
   "execution_count": 32,
   "metadata": {},
   "outputs": [
    {
     "data": {
      "text/html": [
       "<div>\n",
       "<style scoped>\n",
       "    .dataframe tbody tr th:only-of-type {\n",
       "        vertical-align: middle;\n",
       "    }\n",
       "\n",
       "    .dataframe tbody tr th {\n",
       "        vertical-align: top;\n",
       "    }\n",
       "\n",
       "    .dataframe thead th {\n",
       "        text-align: right;\n",
       "    }\n",
       "</style>\n",
       "<table border=\"1\" class=\"dataframe\">\n",
       "  <thead>\n",
       "    <tr style=\"text-align: right;\">\n",
       "      <th></th>\n",
       "      <th>teams.away.score</th>\n",
       "      <th>teams.home.score</th>\n",
       "    </tr>\n",
       "  </thead>\n",
       "  <tbody>\n",
       "    <tr>\n",
       "      <th>0</th>\n",
       "      <td>4</td>\n",
       "      <td>3</td>\n",
       "    </tr>\n",
       "    <tr>\n",
       "      <th>1</th>\n",
       "      <td>2</td>\n",
       "      <td>3</td>\n",
       "    </tr>\n",
       "    <tr>\n",
       "      <th>2</th>\n",
       "      <td>9</td>\n",
       "      <td>4</td>\n",
       "    </tr>\n",
       "    <tr>\n",
       "      <th>3</th>\n",
       "      <td>3</td>\n",
       "      <td>2</td>\n",
       "    </tr>\n",
       "    <tr>\n",
       "      <th>4</th>\n",
       "      <td>2</td>\n",
       "      <td>3</td>\n",
       "    </tr>\n",
       "    <tr>\n",
       "      <th>...</th>\n",
       "      <td>...</td>\n",
       "      <td>...</td>\n",
       "    </tr>\n",
       "    <tr>\n",
       "      <th>1461</th>\n",
       "      <td>4</td>\n",
       "      <td>6</td>\n",
       "    </tr>\n",
       "    <tr>\n",
       "      <th>1462</th>\n",
       "      <td>3</td>\n",
       "      <td>2</td>\n",
       "    </tr>\n",
       "    <tr>\n",
       "      <th>1463</th>\n",
       "      <td>1</td>\n",
       "      <td>3</td>\n",
       "    </tr>\n",
       "    <tr>\n",
       "      <th>1464</th>\n",
       "      <td>2</td>\n",
       "      <td>6</td>\n",
       "    </tr>\n",
       "    <tr>\n",
       "      <th>1465</th>\n",
       "      <td>4</td>\n",
       "      <td>3</td>\n",
       "    </tr>\n",
       "  </tbody>\n",
       "</table>\n",
       "<p>1466 rows × 2 columns</p>\n",
       "</div>"
      ],
      "text/plain": [
       "      teams.away.score  teams.home.score\n",
       "0                    4                 3\n",
       "1                    2                 3\n",
       "2                    9                 4\n",
       "3                    3                 2\n",
       "4                    2                 3\n",
       "...                ...               ...\n",
       "1461                 4                 6\n",
       "1462                 3                 2\n",
       "1463                 1                 3\n",
       "1464                 2                 6\n",
       "1465                 4                 3\n",
       "\n",
       "[1466 rows x 2 columns]"
      ]
     },
     "execution_count": 32,
     "metadata": {},
     "output_type": "execute_result"
    }
   ],
   "source": [
    "df[\n",
    "    [\n",
    "        'teams.away.score',\n",
    "        'teams.home.score'\n",
    "    ]\n",
    "]"
   ]
  },
  {
   "cell_type": "markdown",
   "metadata": {},
   "source": [
    "Contingency table and chi square"
   ]
  },
  {
   "cell_type": "code",
   "execution_count": 33,
   "metadata": {},
   "outputs": [],
   "source": [
    "contingency_table = pd.crosstab(\n",
    "    df['home.teamStats.teamSkaterStats.powerPlayGoals'],\n",
    "    df['away.teamStats.teamSkaterStats.powerPlayGoals']\n",
    ")"
   ]
  },
  {
   "cell_type": "code",
   "execution_count": 34,
   "metadata": {},
   "outputs": [
    {
     "data": {
      "text/html": [
       "<div>\n",
       "<style scoped>\n",
       "    .dataframe tbody tr th:only-of-type {\n",
       "        vertical-align: middle;\n",
       "    }\n",
       "\n",
       "    .dataframe tbody tr th {\n",
       "        vertical-align: top;\n",
       "    }\n",
       "\n",
       "    .dataframe thead th {\n",
       "        text-align: right;\n",
       "    }\n",
       "</style>\n",
       "<table border=\"1\" class=\"dataframe\">\n",
       "  <thead>\n",
       "    <tr style=\"text-align: right;\">\n",
       "      <th>away.teamStats.teamSkaterStats.powerPlayGoals</th>\n",
       "      <th>0.0</th>\n",
       "      <th>1.0</th>\n",
       "      <th>2.0</th>\n",
       "      <th>3.0</th>\n",
       "      <th>4.0</th>\n",
       "      <th>5.0</th>\n",
       "    </tr>\n",
       "    <tr>\n",
       "      <th>home.teamStats.teamSkaterStats.powerPlayGoals</th>\n",
       "      <th></th>\n",
       "      <th></th>\n",
       "      <th></th>\n",
       "      <th></th>\n",
       "      <th></th>\n",
       "      <th></th>\n",
       "    </tr>\n",
       "  </thead>\n",
       "  <tbody>\n",
       "    <tr>\n",
       "      <th>0.0</th>\n",
       "      <td>433</td>\n",
       "      <td>219</td>\n",
       "      <td>55</td>\n",
       "      <td>13</td>\n",
       "      <td>1</td>\n",
       "      <td>0</td>\n",
       "    </tr>\n",
       "    <tr>\n",
       "      <th>1.0</th>\n",
       "      <td>294</td>\n",
       "      <td>169</td>\n",
       "      <td>49</td>\n",
       "      <td>5</td>\n",
       "      <td>1</td>\n",
       "      <td>1</td>\n",
       "    </tr>\n",
       "    <tr>\n",
       "      <th>2.0</th>\n",
       "      <td>79</td>\n",
       "      <td>78</td>\n",
       "      <td>18</td>\n",
       "      <td>3</td>\n",
       "      <td>0</td>\n",
       "      <td>0</td>\n",
       "    </tr>\n",
       "    <tr>\n",
       "      <th>3.0</th>\n",
       "      <td>20</td>\n",
       "      <td>12</td>\n",
       "      <td>7</td>\n",
       "      <td>2</td>\n",
       "      <td>0</td>\n",
       "      <td>0</td>\n",
       "    </tr>\n",
       "    <tr>\n",
       "      <th>4.0</th>\n",
       "      <td>2</td>\n",
       "      <td>4</td>\n",
       "      <td>1</td>\n",
       "      <td>0</td>\n",
       "      <td>0</td>\n",
       "      <td>0</td>\n",
       "    </tr>\n",
       "  </tbody>\n",
       "</table>\n",
       "</div>"
      ],
      "text/plain": [
       "away.teamStats.teamSkaterStats.powerPlayGoals  0.0  1.0  2.0  3.0  4.0  5.0\n",
       "home.teamStats.teamSkaterStats.powerPlayGoals                              \n",
       "0.0                                            433  219   55   13    1    0\n",
       "1.0                                            294  169   49    5    1    1\n",
       "2.0                                             79   78   18    3    0    0\n",
       "3.0                                             20   12    7    2    0    0\n",
       "4.0                                              2    4    1    0    0    0"
      ]
     },
     "execution_count": 34,
     "metadata": {},
     "output_type": "execute_result"
    }
   ],
   "source": [
    "contingency_table"
   ]
  },
  {
   "cell_type": "code",
   "execution_count": 35,
   "metadata": {},
   "outputs": [
    {
     "data": {
      "text/plain": [
       "Chi2ContingencyResult(statistic=28.733719841749288, pvalue=0.09313641491842893, dof=20, expected_freq=array([[4.07222374e+02, 2.37054570e+02, 6.39358799e+01, 1.13117326e+01,\n",
       "        9.83628922e-01, 4.91814461e-01],\n",
       "       [2.93132333e+02, 1.70639836e+02, 4.60231924e+01, 8.14256480e+00,\n",
       "        7.08049113e-01, 3.54024557e-01],\n",
       "       [1.00534789e+02, 5.85238745e+01, 1.57844475e+01, 2.79263302e+00,\n",
       "        2.42837653e-01, 1.21418827e-01],\n",
       "       [2.31568895e+01, 1.34802183e+01, 3.63574352e+00, 6.43246930e-01,\n",
       "        5.59345157e-02, 2.79672578e-02],\n",
       "       [3.95361528e+00, 2.30150068e+00, 6.20736698e-01, 1.09822647e-01,\n",
       "        9.54979536e-03, 4.77489768e-03]]))"
      ]
     },
     "execution_count": 35,
     "metadata": {},
     "output_type": "execute_result"
    }
   ],
   "source": [
    "chi2_contingency(contingency_table)"
   ]
  },
  {
   "cell_type": "markdown",
   "metadata": {},
   "source": [
    "Automatic feature selection whith scikit learn"
   ]
  },
  {
   "cell_type": "code",
   "execution_count": 21,
   "metadata": {},
   "outputs": [
    {
     "data": {
      "text/plain": [
       "(array([3386.78411438,  224.42334091,  220.00412518,  184.6678981 ,\n",
       "          60.79647113,  110.73900568,  217.20132632]),\n",
       " array([0.00000000e+00, 6.18037870e-42, 5.15378008e-41, 1.11326003e-33,\n",
       "        6.59293594e-09, 1.30400816e-18, 1.97661836e-40]))"
      ]
     },
     "execution_count": 21,
     "metadata": {},
     "output_type": "execute_result"
    }
   ],
   "source": [
    "chi2(\n",
    "    df[\n",
    "        [\n",
    "            'away.teamStats.teamSkaterStats.pim',\n",
    "            'away.teamStats.teamSkaterStats.shots',\n",
    "            'away.teamStats.teamSkaterStats.powerPlayOpportunities',\n",
    "            'away.teamStats.teamSkaterStats.blocked',\n",
    "            'away.teamStats.teamSkaterStats.takeaways',\n",
    "            'away.teamStats.teamSkaterStats.giveaways',\n",
    "            'away.teamStats.teamSkaterStats.hits'\n",
    "        ]\n",
    "    ],\n",
    "    df['home.teamStats.teamSkaterStats.powerPlayOpportunities']\n",
    ")"
   ]
  },
  {
   "cell_type": "markdown",
   "metadata": {},
   "source": [
    "Correlation"
   ]
  },
  {
   "cell_type": "code",
   "execution_count": 67,
   "metadata": {},
   "outputs": [
    {
     "data": {
      "text/plain": [
       "<Axes: xlabel='away.teamStats.teamSkaterStats.pim', ylabel='away.teamStats.teamSkaterStats.shots'>"
      ]
     },
     "execution_count": 67,
     "metadata": {},
     "output_type": "execute_result"
    },
    {
     "data": {
      "image/png": "[encoded data removed]",
      "text/plain": [
       "<Figure size 640x480 with 1 Axes>"
      ]
     },
     "metadata": {},
     "output_type": "display_data"
    }
   ],
   "source": [
    "df.plot.scatter(\n",
    "    'away.teamStats.teamSkaterStats.pim',\n",
    "    'away.teamStats.teamSkaterStats.shots'\n",
    ")"
   ]
  },
  {
   "cell_type": "code",
   "execution_count": 69,
   "metadata": {},
   "outputs": [
    {
     "data": {
      "text/plain": [
       "<Axes: xlabel='home.teamStats.teamSkaterStats.shots', ylabel='home.teamStats.teamSkaterStats.goals'>"
      ]
     },
     "execution_count": 69,
     "metadata": {},
     "output_type": "execute_result"
    },
    {
     "data": {
      "image/png": "[encoded data removed]",
      "text/plain": [
       "<Figure size 640x480 with 1 Axes>"
      ]
     },
     "metadata": {},
     "output_type": "display_data"
    }
   ],
   "source": [
    "df.plot.scatter(\n",
    "    'home.teamStats.teamSkaterStats.shots',\n",
    "    'home.teamStats.teamSkaterStats.goals'\n",
    ")\n",
    "\n"
   ]
  },
  {
   "cell_type": "code",
   "execution_count": 71,
   "metadata": {},
   "outputs": [
    {
     "data": {
      "text/html": [
       "<div>\n",
       "<style scoped>\n",
       "    .dataframe tbody tr th:only-of-type {\n",
       "        vertical-align: middle;\n",
       "    }\n",
       "\n",
       "    .dataframe tbody tr th {\n",
       "        vertical-align: top;\n",
       "    }\n",
       "\n",
       "    .dataframe thead th {\n",
       "        text-align: right;\n",
       "    }\n",
       "</style>\n",
       "<table border=\"1\" class=\"dataframe\">\n",
       "  <thead>\n",
       "    <tr style=\"text-align: right;\">\n",
       "      <th></th>\n",
       "      <th>home.teamStats.teamSkaterStats.shots</th>\n",
       "      <th>home.teamStats.teamSkaterStats.goals</th>\n",
       "    </tr>\n",
       "  </thead>\n",
       "  <tbody>\n",
       "    <tr>\n",
       "      <th>home.teamStats.teamSkaterStats.shots</th>\n",
       "      <td>1.000000</td>\n",
       "      <td>0.100566</td>\n",
       "    </tr>\n",
       "    <tr>\n",
       "      <th>home.teamStats.teamSkaterStats.goals</th>\n",
       "      <td>0.100566</td>\n",
       "      <td>1.000000</td>\n",
       "    </tr>\n",
       "  </tbody>\n",
       "</table>\n",
       "</div>"
      ],
      "text/plain": [
       "                                      home.teamStats.teamSkaterStats.shots  \\\n",
       "home.teamStats.teamSkaterStats.shots                              1.000000   \n",
       "home.teamStats.teamSkaterStats.goals                              0.100566   \n",
       "\n",
       "                                      home.teamStats.teamSkaterStats.goals  \n",
       "home.teamStats.teamSkaterStats.shots                              0.100566  \n",
       "home.teamStats.teamSkaterStats.goals                              1.000000  "
      ]
     },
     "execution_count": 71,
     "metadata": {},
     "output_type": "execute_result"
    }
   ],
   "source": [
    "df[\n",
    "    [\n",
    "    'home.teamStats.teamSkaterStats.shots',\n",
    "    'home.teamStats.teamSkaterStats.goals'\n",
    "    ]\n",
    "].corr()\n"
   ]
  },
  {
   "cell_type": "code",
   "execution_count": null,
   "metadata": {},
   "outputs": [],
   "source": []
  }
 ],
 "metadata": {
  "kernelspec": {
   "display_name": ".venv",
   "language": "python",
   "name": "python3"
  },
  "language_info": {
   "codemirror_mode": {
    "name": "ipython",
    "version": 3
   },
   "file_extension": ".py",
   "mimetype": "text/x-python",
   "name": "python",
   "nbconvert_exporter": "python",
   "pygments_lexer": "ipython3",
   "version": "3.11.6"
  }
 },
 "nbformat": 4,
 "nbformat_minor": 2
}
