{
 "cells": [
  {
   "cell_type": "markdown",
   "metadata": {},
   "source": [
    "Name: Bakri Badet  \n",
    "Matrikelnr:1125983"
   ]
  },
  {
   "cell_type": "code",
   "execution_count": 48,
   "metadata": {},
   "outputs": [],
   "source": [
    "import recordlinkage as rl\n",
    "from recordlinkage.preprocessing import clean\n",
    "import pandas as pd\n",
    "\n",
    "\n"
   ]
  },
  {
   "cell_type": "code",
   "execution_count": 49,
   "metadata": {},
   "outputs": [],
   "source": [
    "# ********************************\n",
    "# Load Data\n",
    "# ********************************\n",
    "goog = pd.read_parquet('data/Google')\n",
    "amzn = pd.read_parquet('data/Amazon')"
   ]
  },
  {
   "cell_type": "code",
   "execution_count": 50,
   "metadata": {},
   "outputs": [
    {
     "data": {
      "text/html": [
       "<div>\n",
       "<style scoped>\n",
       "    .dataframe tbody tr th:only-of-type {\n",
       "        vertical-align: middle;\n",
       "    }\n",
       "\n",
       "    .dataframe tbody tr th {\n",
       "        vertical-align: top;\n",
       "    }\n",
       "\n",
       "    .dataframe thead th {\n",
       "        text-align: right;\n",
       "    }\n",
       "</style>\n",
       "<table border=\"1\" class=\"dataframe\">\n",
       "  <thead>\n",
       "    <tr style=\"text-align: right;\">\n",
       "      <th></th>\n",
       "      <th>id</th>\n",
       "      <th>name</th>\n",
       "      <th>description</th>\n",
       "      <th>manufacturer</th>\n",
       "      <th>price</th>\n",
       "    </tr>\n",
       "  </thead>\n",
       "  <tbody>\n",
       "    <tr>\n",
       "      <th>0</th>\n",
       "      <td>http://www.google.com/base/feeds/snippets/1112...</td>\n",
       "      <td>learning quickbooks 2007</td>\n",
       "      <td>learning quickbooks 2007</td>\n",
       "      <td>intuit</td>\n",
       "      <td>38.99</td>\n",
       "    </tr>\n",
       "    <tr>\n",
       "      <th>1</th>\n",
       "      <td>http://www.google.com/base/feeds/snippets/1153...</td>\n",
       "      <td>superstart! fun with reading &amp; writing!</td>\n",
       "      <td>fun with reading &amp; writing! is designed to hel...</td>\n",
       "      <td></td>\n",
       "      <td>8.49</td>\n",
       "    </tr>\n",
       "    <tr>\n",
       "      <th>2</th>\n",
       "      <td>http://www.google.com/base/feeds/snippets/1134...</td>\n",
       "      <td>qb pos 6.0 basic software</td>\n",
       "      <td>qb pos 6.0 basic retail mngmt software. for re...</td>\n",
       "      <td>intuit</td>\n",
       "      <td>637.99</td>\n",
       "    </tr>\n",
       "    <tr>\n",
       "      <th>3</th>\n",
       "      <td>http://www.google.com/base/feeds/snippets/1204...</td>\n",
       "      <td>math missions: the amazing arcade adventure (g...</td>\n",
       "      <td>save spectacle city by disrupting randall unde...</td>\n",
       "      <td></td>\n",
       "      <td>12.95</td>\n",
       "    </tr>\n",
       "    <tr>\n",
       "      <th>4</th>\n",
       "      <td>http://www.google.com/base/feeds/snippets/1224...</td>\n",
       "      <td>production prem cs3 mac upgrad</td>\n",
       "      <td>adobe cs3 production premium mac upgrade from ...</td>\n",
       "      <td>adobe software</td>\n",
       "      <td>805.99</td>\n",
       "    </tr>\n",
       "  </tbody>\n",
       "</table>\n",
       "</div>"
      ],
      "text/plain": [
       "                                                  id  \\\n",
       "0  http://www.google.com/base/feeds/snippets/1112...   \n",
       "1  http://www.google.com/base/feeds/snippets/1153...   \n",
       "2  http://www.google.com/base/feeds/snippets/1134...   \n",
       "3  http://www.google.com/base/feeds/snippets/1204...   \n",
       "4  http://www.google.com/base/feeds/snippets/1224...   \n",
       "\n",
       "                                                name  \\\n",
       "0                           learning quickbooks 2007   \n",
       "1            superstart! fun with reading & writing!   \n",
       "2                          qb pos 6.0 basic software   \n",
       "3  math missions: the amazing arcade adventure (g...   \n",
       "4                     production prem cs3 mac upgrad   \n",
       "\n",
       "                                         description    manufacturer   price  \n",
       "0                           learning quickbooks 2007          intuit   38.99  \n",
       "1  fun with reading & writing! is designed to hel...                    8.49  \n",
       "2  qb pos 6.0 basic retail mngmt software. for re...          intuit  637.99  \n",
       "3  save spectacle city by disrupting randall unde...                   12.95  \n",
       "4  adobe cs3 production premium mac upgrade from ...  adobe software  805.99  "
      ]
     },
     "execution_count": 50,
     "metadata": {},
     "output_type": "execute_result"
    }
   ],
   "source": [
    "goog.head()"
   ]
  },
  {
   "cell_type": "code",
   "execution_count": 51,
   "metadata": {},
   "outputs": [
    {
     "data": {
      "text/html": [
       "<div>\n",
       "<style scoped>\n",
       "    .dataframe tbody tr th:only-of-type {\n",
       "        vertical-align: middle;\n",
       "    }\n",
       "\n",
       "    .dataframe tbody tr th {\n",
       "        vertical-align: top;\n",
       "    }\n",
       "\n",
       "    .dataframe thead th {\n",
       "        text-align: right;\n",
       "    }\n",
       "</style>\n",
       "<table border=\"1\" class=\"dataframe\">\n",
       "  <thead>\n",
       "    <tr style=\"text-align: right;\">\n",
       "      <th></th>\n",
       "      <th>id</th>\n",
       "      <th>title</th>\n",
       "      <th>description</th>\n",
       "      <th>manufacturer</th>\n",
       "      <th>price</th>\n",
       "    </tr>\n",
       "  </thead>\n",
       "  <tbody>\n",
       "    <tr>\n",
       "      <th>0</th>\n",
       "      <td>b000jz4hqo</td>\n",
       "      <td>clickart 950 000 - premier image pack (dvd-rom)</td>\n",
       "      <td></td>\n",
       "      <td>broderbund</td>\n",
       "      <td>0.00</td>\n",
       "    </tr>\n",
       "    <tr>\n",
       "      <th>1</th>\n",
       "      <td>b0006zf55o</td>\n",
       "      <td>ca international - arcserve lap/desktop oem 30pk</td>\n",
       "      <td>oem arcserve backup v11.1 win 30u for laptops ...</td>\n",
       "      <td>computer associates</td>\n",
       "      <td>0.00</td>\n",
       "    </tr>\n",
       "    <tr>\n",
       "      <th>2</th>\n",
       "      <td>b00004tkvy</td>\n",
       "      <td>noah's ark activity center (jewel case ages 3-8)</td>\n",
       "      <td></td>\n",
       "      <td>victory multimedia</td>\n",
       "      <td>0.00</td>\n",
       "    </tr>\n",
       "    <tr>\n",
       "      <th>3</th>\n",
       "      <td>b000g80lqo</td>\n",
       "      <td>peachtree by sage premium accounting for nonpr...</td>\n",
       "      <td>peachtree premium accounting for nonprofits 20...</td>\n",
       "      <td>sage software</td>\n",
       "      <td>599.99</td>\n",
       "    </tr>\n",
       "    <tr>\n",
       "      <th>4</th>\n",
       "      <td>b0006se5bq</td>\n",
       "      <td>singing coach unlimited</td>\n",
       "      <td>singing coach unlimited - electronic learning ...</td>\n",
       "      <td>carry-a-tune technologies</td>\n",
       "      <td>99.99</td>\n",
       "    </tr>\n",
       "  </tbody>\n",
       "</table>\n",
       "</div>"
      ],
      "text/plain": [
       "           id                                              title  \\\n",
       "0  b000jz4hqo    clickart 950 000 - premier image pack (dvd-rom)   \n",
       "1  b0006zf55o   ca international - arcserve lap/desktop oem 30pk   \n",
       "2  b00004tkvy   noah's ark activity center (jewel case ages 3-8)   \n",
       "3  b000g80lqo  peachtree by sage premium accounting for nonpr...   \n",
       "4  b0006se5bq                            singing coach unlimited   \n",
       "\n",
       "                                         description  \\\n",
       "0                                                      \n",
       "1  oem arcserve backup v11.1 win 30u for laptops ...   \n",
       "2                                                      \n",
       "3  peachtree premium accounting for nonprofits 20...   \n",
       "4  singing coach unlimited - electronic learning ...   \n",
       "\n",
       "                manufacturer   price  \n",
       "0                 broderbund    0.00  \n",
       "1        computer associates    0.00  \n",
       "2         victory multimedia    0.00  \n",
       "3              sage software  599.99  \n",
       "4  carry-a-tune technologies   99.99  "
      ]
     },
     "execution_count": 51,
     "metadata": {},
     "output_type": "execute_result"
    }
   ],
   "source": [
    "amzn.head()"
   ]
  },
  {
   "cell_type": "code",
   "execution_count": 52,
   "metadata": {},
   "outputs": [
    {
     "name": "stdout",
     "output_type": "stream",
     "text": [
      "id              object\n",
      "name            object\n",
      "description     object\n",
      "manufacturer    object\n",
      "price           object\n",
      "dtype: object\n",
      "id               object\n",
      "title            object\n",
      "description      object\n",
      "manufacturer     object\n",
      "price           float64\n",
      "dtype: object\n"
     ]
    }
   ],
   "source": [
    "print(goog.dtypes)\n",
    "print(amzn.dtypes)"
   ]
  },
  {
   "cell_type": "code",
   "execution_count": 53,
   "metadata": {},
   "outputs": [
    {
     "data": {
      "text/plain": [
       "Index(['id', 'name', 'description', 'manufacturer', 'price'], dtype='object')"
      ]
     },
     "execution_count": 53,
     "metadata": {},
     "output_type": "execute_result"
    }
   ],
   "source": [
    "goog.columns"
   ]
  },
  {
   "cell_type": "code",
   "execution_count": 54,
   "metadata": {},
   "outputs": [
    {
     "data": {
      "text/plain": [
       "Index(['id', 'title', 'description', 'manufacturer', 'price'], dtype='object')"
      ]
     },
     "execution_count": 54,
     "metadata": {},
     "output_type": "execute_result"
    }
   ],
   "source": [
    "amzn.columns"
   ]
  },
  {
   "cell_type": "code",
   "execution_count": 55,
   "metadata": {},
   "outputs": [],
   "source": [
    "# ********************************\n",
    "# Pre-processing\n",
    "# ********************************\n",
    "goog['name'] = clean(goog['name'])\n",
    "goog['description'] = clean(goog['description'])\n",
    "goog['manufacturer'] = clean(goog['manufacturer'])\n",
    "goog['price'] = pd.to_numeric(goog['price'], errors='coerce')\n",
    "goog.columns = ['idGoogle', 'name', 'description', 'manufacturer', 'price']\n",
    "goog = goog.set_index('idGoogle')\n",
    "\n",
    "amzn['title'] = clean(amzn['title'])\n",
    "amzn['description'] = clean(amzn['description'])\n",
    "amzn['manufacturer'] = clean(amzn['manufacturer'])\n",
    "amzn.columns = ['idAmazon', 'name', 'description', 'manufacturer', 'price']\n",
    "amzn = amzn.set_index('idAmazon')"
   ]
  },
  {
   "cell_type": "code",
   "execution_count": 56,
   "metadata": {},
   "outputs": [
    {
     "data": {
      "text/html": [
       "<div>\n",
       "<style scoped>\n",
       "    .dataframe tbody tr th:only-of-type {\n",
       "        vertical-align: middle;\n",
       "    }\n",
       "\n",
       "    .dataframe tbody tr th {\n",
       "        vertical-align: top;\n",
       "    }\n",
       "\n",
       "    .dataframe thead th {\n",
       "        text-align: right;\n",
       "    }\n",
       "</style>\n",
       "<table border=\"1\" class=\"dataframe\">\n",
       "  <thead>\n",
       "    <tr style=\"text-align: right;\">\n",
       "      <th></th>\n",
       "      <th>name</th>\n",
       "      <th>description</th>\n",
       "      <th>manufacturer</th>\n",
       "      <th>price</th>\n",
       "    </tr>\n",
       "    <tr>\n",
       "      <th>idAmazon</th>\n",
       "      <th></th>\n",
       "      <th></th>\n",
       "      <th></th>\n",
       "      <th></th>\n",
       "    </tr>\n",
       "  </thead>\n",
       "  <tbody>\n",
       "    <tr>\n",
       "      <th>b000jz4hqo</th>\n",
       "      <td>clickart 950 000 premier image pack</td>\n",
       "      <td></td>\n",
       "      <td>broderbund</td>\n",
       "      <td>0.00</td>\n",
       "    </tr>\n",
       "    <tr>\n",
       "      <th>b0006zf55o</th>\n",
       "      <td>ca international arcserve lapdesktop oem 30pk</td>\n",
       "      <td>oem arcserve backup v111 win 30u for laptops a...</td>\n",
       "      <td>computer associates</td>\n",
       "      <td>0.00</td>\n",
       "    </tr>\n",
       "    <tr>\n",
       "      <th>b00004tkvy</th>\n",
       "      <td>noahs ark activity center</td>\n",
       "      <td></td>\n",
       "      <td>victory multimedia</td>\n",
       "      <td>0.00</td>\n",
       "    </tr>\n",
       "    <tr>\n",
       "      <th>b000g80lqo</th>\n",
       "      <td>peachtree by sage premium accounting for nonpr...</td>\n",
       "      <td>peachtree premium accounting for nonprofits 20...</td>\n",
       "      <td>sage software</td>\n",
       "      <td>599.99</td>\n",
       "    </tr>\n",
       "    <tr>\n",
       "      <th>b0006se5bq</th>\n",
       "      <td>singing coach unlimited</td>\n",
       "      <td>singing coach unlimited electronic learning pr...</td>\n",
       "      <td>carry a tune technologies</td>\n",
       "      <td>99.99</td>\n",
       "    </tr>\n",
       "  </tbody>\n",
       "</table>\n",
       "</div>"
      ],
      "text/plain": [
       "                                                         name  \\\n",
       "idAmazon                                                        \n",
       "b000jz4hqo                clickart 950 000 premier image pack   \n",
       "b0006zf55o      ca international arcserve lapdesktop oem 30pk   \n",
       "b00004tkvy                          noahs ark activity center   \n",
       "b000g80lqo  peachtree by sage premium accounting for nonpr...   \n",
       "b0006se5bq                            singing coach unlimited   \n",
       "\n",
       "                                                  description  \\\n",
       "idAmazon                                                        \n",
       "b000jz4hqo                                                      \n",
       "b0006zf55o  oem arcserve backup v111 win 30u for laptops a...   \n",
       "b00004tkvy                                                      \n",
       "b000g80lqo  peachtree premium accounting for nonprofits 20...   \n",
       "b0006se5bq  singing coach unlimited electronic learning pr...   \n",
       "\n",
       "                         manufacturer   price  \n",
       "idAmazon                                       \n",
       "b000jz4hqo                 broderbund    0.00  \n",
       "b0006zf55o        computer associates    0.00  \n",
       "b00004tkvy         victory multimedia    0.00  \n",
       "b000g80lqo              sage software  599.99  \n",
       "b0006se5bq  carry a tune technologies   99.99  "
      ]
     },
     "execution_count": 56,
     "metadata": {},
     "output_type": "execute_result"
    }
   ],
   "source": [
    "amzn.head()"
   ]
  },
  {
   "cell_type": "code",
   "execution_count": 57,
   "metadata": {},
   "outputs": [
    {
     "data": {
      "text/plain": [
       "Index(['b000jz4hqo', 'b0006zf55o', 'b00004tkvy', 'b000g80lqo', 'b0006se5bq',\n",
       "       'b000ehpzv8', 'b00021xhzw', 'b000gzwjgc', 'b0000dbykm', 'b00029bqa2',\n",
       "       ...\n",
       "       'b0009x6qew', 'b000tdgyks', 'b000pihtbk', 'b0002yiuns', 'b000in8mj0',\n",
       "       'b000cs3s2c', 'b00005bigp', 'b000h1df7w', 'b000p9cr66', 'b000j588g4'],\n",
       "      dtype='object', name='idAmazon', length=1363)"
      ]
     },
     "execution_count": 57,
     "metadata": {},
     "output_type": "execute_result"
    }
   ],
   "source": [
    "amzn.index"
   ]
  },
  {
   "cell_type": "code",
   "execution_count": 128,
   "metadata": {},
   "outputs": [],
   "source": [
    "from recordlinkage import preprocessing\n",
    "goog[\"phonetic_name\"]=preprocessing.phonetic(goog[\"manufacturer\"],\"soundex\")\n",
    "amzn[\"phonetic_name\"]=preprocessing.phonetic(amzn[\"manufacturer\"],\"soundex\")"
   ]
  },
  {
   "cell_type": "code",
   "execution_count": 129,
   "metadata": {},
   "outputs": [],
   "source": [
    "from recordlinkage import Index\n",
    "indexer=Index()\n",
    "indexer.block(\"phonetic_name\")\n",
    "# block macht index for Sample not the whole dataset\n",
    "# Indexing reduces the number of record pairs to be compared. A common approach is blocking\n",
    "# on a common attribute\n",
    "candidate_links=indexer.index(goog,amzn)\n",
    "# candidate_links.shape"
   ]
  },
  {
   "cell_type": "code",
   "execution_count": 130,
   "metadata": {},
   "outputs": [
    {
     "data": {
      "text/html": [
       "<div>\n",
       "<style scoped>\n",
       "    .dataframe tbody tr th:only-of-type {\n",
       "        vertical-align: middle;\n",
       "    }\n",
       "\n",
       "    .dataframe tbody tr th {\n",
       "        vertical-align: top;\n",
       "    }\n",
       "\n",
       "    .dataframe thead th {\n",
       "        text-align: right;\n",
       "    }\n",
       "</style>\n",
       "<table border=\"1\" class=\"dataframe\">\n",
       "  <thead>\n",
       "    <tr style=\"text-align: right;\">\n",
       "      <th></th>\n",
       "      <th>idGoogle</th>\n",
       "      <th>idAmazon</th>\n",
       "    </tr>\n",
       "  </thead>\n",
       "  <tbody>\n",
       "    <tr>\n",
       "      <th>0</th>\n",
       "      <td>http://www.google.com/base/feeds/snippets/1112...</td>\n",
       "      <td>b000i2qubi</td>\n",
       "    </tr>\n",
       "    <tr>\n",
       "      <th>1</th>\n",
       "      <td>http://www.google.com/base/feeds/snippets/1112...</td>\n",
       "      <td>b000hc0m36</td>\n",
       "    </tr>\n",
       "    <tr>\n",
       "      <th>2</th>\n",
       "      <td>http://www.google.com/base/feeds/snippets/1112...</td>\n",
       "      <td>b000h14rqk</td>\n",
       "    </tr>\n",
       "    <tr>\n",
       "      <th>3</th>\n",
       "      <td>http://www.google.com/base/feeds/snippets/1112...</td>\n",
       "      <td>b00062ak2k</td>\n",
       "    </tr>\n",
       "    <tr>\n",
       "      <th>4</th>\n",
       "      <td>http://www.google.com/base/feeds/snippets/1112...</td>\n",
       "      <td>b000hbys96</td>\n",
       "    </tr>\n",
       "    <tr>\n",
       "      <th>...</th>\n",
       "      <td>...</td>\n",
       "      <td>...</td>\n",
       "    </tr>\n",
       "    <tr>\n",
       "      <th>3412</th>\n",
       "      <td>http://www.google.com/base/feeds/snippets/6859...</td>\n",
       "      <td>b000ndo7n0</td>\n",
       "    </tr>\n",
       "    <tr>\n",
       "      <th>3413</th>\n",
       "      <td>http://www.google.com/base/feeds/snippets/1362...</td>\n",
       "      <td>b000fico2o</td>\n",
       "    </tr>\n",
       "    <tr>\n",
       "      <th>3414</th>\n",
       "      <td>http://www.google.com/base/feeds/snippets/1362...</td>\n",
       "      <td>b000fn6c2c</td>\n",
       "    </tr>\n",
       "    <tr>\n",
       "      <th>3415</th>\n",
       "      <td>http://www.google.com/base/feeds/snippets/1362...</td>\n",
       "      <td>b000im5gb8</td>\n",
       "    </tr>\n",
       "    <tr>\n",
       "      <th>3416</th>\n",
       "      <td>http://www.google.com/base/feeds/snippets/1362...</td>\n",
       "      <td>b000fn6cf4</td>\n",
       "    </tr>\n",
       "  </tbody>\n",
       "</table>\n",
       "<p>3417 rows × 2 columns</p>\n",
       "</div>"
      ],
      "text/plain": [
       "                                               idGoogle    idAmazon\n",
       "0     http://www.google.com/base/feeds/snippets/1112...  b000i2qubi\n",
       "1     http://www.google.com/base/feeds/snippets/1112...  b000hc0m36\n",
       "2     http://www.google.com/base/feeds/snippets/1112...  b000h14rqk\n",
       "3     http://www.google.com/base/feeds/snippets/1112...  b00062ak2k\n",
       "4     http://www.google.com/base/feeds/snippets/1112...  b000hbys96\n",
       "...                                                 ...         ...\n",
       "3412  http://www.google.com/base/feeds/snippets/6859...  b000ndo7n0\n",
       "3413  http://www.google.com/base/feeds/snippets/1362...  b000fico2o\n",
       "3414  http://www.google.com/base/feeds/snippets/1362...  b000fn6c2c\n",
       "3415  http://www.google.com/base/feeds/snippets/1362...  b000im5gb8\n",
       "3416  http://www.google.com/base/feeds/snippets/1362...  b000fn6cf4\n",
       "\n",
       "[3417 rows x 2 columns]"
      ]
     },
     "execution_count": 130,
     "metadata": {},
     "output_type": "execute_result"
    }
   ],
   "source": [
    "candidate_links_df=candidate_links.to_frame(index=False,name=[\"idGoogle\",\"idAmazon\"])\n",
    "# candidate_links_df[candidate_links_df[\"idAmazon\"]==\"b000hc0m36\"]\n",
    "candidate_links_df"
   ]
  },
  {
   "cell_type": "markdown",
   "metadata": {},
   "source": [
    "Nachdem wir die Daten indiziert haben müssen wir überlegen was wir miteinander\n",
    "vergleichen name mit name vltt beschreibung mit beschreicung Hersteller ..."
   ]
  },
  {
   "cell_type": "code",
   "execution_count": 131,
   "metadata": {},
   "outputs": [
    {
     "data": {
      "text/html": [
       "<div>\n",
       "<style scoped>\n",
       "    .dataframe tbody tr th:only-of-type {\n",
       "        vertical-align: middle;\n",
       "    }\n",
       "\n",
       "    .dataframe tbody tr th {\n",
       "        vertical-align: top;\n",
       "    }\n",
       "\n",
       "    .dataframe thead th {\n",
       "        text-align: right;\n",
       "    }\n",
       "</style>\n",
       "<table border=\"1\" class=\"dataframe\">\n",
       "  <thead>\n",
       "    <tr style=\"text-align: right;\">\n",
       "      <th></th>\n",
       "      <th></th>\n",
       "      <th>cm_name</th>\n",
       "      <th>cm_manufacturer</th>\n",
       "      <th>cm_price</th>\n",
       "    </tr>\n",
       "    <tr>\n",
       "      <th>idGoogle</th>\n",
       "      <th>idAmazon</th>\n",
       "      <th></th>\n",
       "      <th></th>\n",
       "      <th></th>\n",
       "    </tr>\n",
       "  </thead>\n",
       "  <tbody>\n",
       "    <tr>\n",
       "      <th rowspan=\"5\" valign=\"top\">http://www.google.com/base/feeds/snippets/11125907881740407428</th>\n",
       "      <th>b000i2qubi</th>\n",
       "      <td>0.0</td>\n",
       "      <td>1.0</td>\n",
       "      <td>0.00</td>\n",
       "    </tr>\n",
       "    <tr>\n",
       "      <th>b000hc0m36</th>\n",
       "      <td>0.0</td>\n",
       "      <td>1.0</td>\n",
       "      <td>0.52</td>\n",
       "    </tr>\n",
       "    <tr>\n",
       "      <th>b000h14rqk</th>\n",
       "      <td>0.0</td>\n",
       "      <td>1.0</td>\n",
       "      <td>0.00</td>\n",
       "    </tr>\n",
       "    <tr>\n",
       "      <th>b00062ak2k</th>\n",
       "      <td>0.0</td>\n",
       "      <td>1.0</td>\n",
       "      <td>0.00</td>\n",
       "    </tr>\n",
       "    <tr>\n",
       "      <th>b000hbys96</th>\n",
       "      <td>0.0</td>\n",
       "      <td>1.0</td>\n",
       "      <td>0.00</td>\n",
       "    </tr>\n",
       "    <tr>\n",
       "      <th>...</th>\n",
       "      <th>...</th>\n",
       "      <td>...</td>\n",
       "      <td>...</td>\n",
       "      <td>...</td>\n",
       "    </tr>\n",
       "    <tr>\n",
       "      <th>http://www.google.com/base/feeds/snippets/6859916462314032120</th>\n",
       "      <th>b000ndo7n0</th>\n",
       "      <td>0.0</td>\n",
       "      <td>0.0</td>\n",
       "      <td>0.00</td>\n",
       "    </tr>\n",
       "    <tr>\n",
       "      <th rowspan=\"4\" valign=\"top\">http://www.google.com/base/feeds/snippets/13620891765678065248</th>\n",
       "      <th>b000fico2o</th>\n",
       "      <td>0.0</td>\n",
       "      <td>1.0</td>\n",
       "      <td>0.00</td>\n",
       "    </tr>\n",
       "    <tr>\n",
       "      <th>b000fn6c2c</th>\n",
       "      <td>0.0</td>\n",
       "      <td>1.0</td>\n",
       "      <td>0.00</td>\n",
       "    </tr>\n",
       "    <tr>\n",
       "      <th>b000im5gb8</th>\n",
       "      <td>0.0</td>\n",
       "      <td>1.0</td>\n",
       "      <td>0.00</td>\n",
       "    </tr>\n",
       "    <tr>\n",
       "      <th>b000fn6cf4</th>\n",
       "      <td>0.0</td>\n",
       "      <td>1.0</td>\n",
       "      <td>0.00</td>\n",
       "    </tr>\n",
       "  </tbody>\n",
       "</table>\n",
       "<p>3417 rows × 3 columns</p>\n",
       "</div>"
      ],
      "text/plain": [
       "                                                               cm_name  \\\n",
       "idGoogle                                           idAmazon              \n",
       "http://www.google.com/base/feeds/snippets/11125... b000i2qubi      0.0   \n",
       "                                                   b000hc0m36      0.0   \n",
       "                                                   b000h14rqk      0.0   \n",
       "                                                   b00062ak2k      0.0   \n",
       "                                                   b000hbys96      0.0   \n",
       "...                                                                ...   \n",
       "http://www.google.com/base/feeds/snippets/68599... b000ndo7n0      0.0   \n",
       "http://www.google.com/base/feeds/snippets/13620... b000fico2o      0.0   \n",
       "                                                   b000fn6c2c      0.0   \n",
       "                                                   b000im5gb8      0.0   \n",
       "                                                   b000fn6cf4      0.0   \n",
       "\n",
       "                                                               cm_manufacturer  \\\n",
       "idGoogle                                           idAmazon                      \n",
       "http://www.google.com/base/feeds/snippets/11125... b000i2qubi              1.0   \n",
       "                                                   b000hc0m36              1.0   \n",
       "                                                   b000h14rqk              1.0   \n",
       "                                                   b00062ak2k              1.0   \n",
       "                                                   b000hbys96              1.0   \n",
       "...                                                                        ...   \n",
       "http://www.google.com/base/feeds/snippets/68599... b000ndo7n0              0.0   \n",
       "http://www.google.com/base/feeds/snippets/13620... b000fico2o              1.0   \n",
       "                                                   b000fn6c2c              1.0   \n",
       "                                                   b000im5gb8              1.0   \n",
       "                                                   b000fn6cf4              1.0   \n",
       "\n",
       "                                                               cm_price  \n",
       "idGoogle                                           idAmazon              \n",
       "http://www.google.com/base/feeds/snippets/11125... b000i2qubi      0.00  \n",
       "                                                   b000hc0m36      0.52  \n",
       "                                                   b000h14rqk      0.00  \n",
       "                                                   b00062ak2k      0.00  \n",
       "                                                   b000hbys96      0.00  \n",
       "...                                                                 ...  \n",
       "http://www.google.com/base/feeds/snippets/68599... b000ndo7n0      0.00  \n",
       "http://www.google.com/base/feeds/snippets/13620... b000fico2o      0.00  \n",
       "                                                   b000fn6c2c      0.00  \n",
       "                                                   b000im5gb8      0.00  \n",
       "                                                   b000fn6cf4      0.00  \n",
       "\n",
       "[3417 rows x 3 columns]"
      ]
     },
     "execution_count": 131,
     "metadata": {},
     "output_type": "execute_result"
    }
   ],
   "source": [
    "# Comparsion\n",
    "compare=rl.Compare()\n",
    "\n",
    "# Compare name\n",
    "compare.string(\"name\",\"name\",method=\"jarowinkler\",threshold=0.85,label=\"cm_name\")\n",
    "\n",
    "# Compare description\n",
    "compare.string('manufacturer', 'manufacturer', method='jarowinkler',\n",
    "                threshold=0.85,label=\"cm_manufacturer\")\n",
    "\n",
    "# Compare Price\n",
    "compare.numeric(\"price\",\"price\",method=\"linear\",label=\"cm_price\")\n",
    "\n",
    "# Compute comparsion vectors\n",
    "features = compare.compute(candidate_links, goog, amzn)\n",
    "\n",
    "features"
   ]
  },
  {
   "cell_type": "code",
   "execution_count": 133,
   "metadata": {},
   "outputs": [
    {
     "data": {
      "text/plain": [
       "(259, 3)"
      ]
     },
     "execution_count": 133,
     "metadata": {},
     "output_type": "execute_result"
    }
   ],
   "source": [
    "prediction=features[features.sum(axis=1)>1.5]\n",
    "prediction.shape"
   ]
  },
  {
   "cell_type": "code",
   "execution_count": 108,
   "metadata": {},
   "outputs": [],
   "source": [
    "mapping=pd.read_parquet(r\"data\\Amazon_Google_perfectMapping\")"
   ]
  },
  {
   "cell_type": "code",
   "execution_count": 134,
   "metadata": {},
   "outputs": [
    {
     "data": {
      "text/plain": [
       "(1300, 2)"
      ]
     },
     "execution_count": 134,
     "metadata": {},
     "output_type": "execute_result"
    }
   ],
   "source": [
    "mapping.shape"
   ]
  },
  {
   "cell_type": "code",
   "execution_count": 123,
   "metadata": {},
   "outputs": [],
   "source": [
    "matches=mapping.set_index([\"idGoogle\",\"idAmazon\"])"
   ]
  },
  {
   "cell_type": "code",
   "execution_count": 124,
   "metadata": {},
   "outputs": [
    {
     "data": {
      "text/plain": [
       "MultiIndex([('http://www.google.com/base/feeds/snippets/18441480711193821750', ...),\n",
       "            ('http://www.google.com/base/feeds/snippets/18441110047404795849', ...),\n",
       "            ('http://www.google.com/base/feeds/snippets/18441188461196475272', ...),\n",
       "            ('http://www.google.com/base/feeds/snippets/18428750969726461849', ...),\n",
       "            ('http://www.google.com/base/feeds/snippets/18430621475529168165', ...),\n",
       "            ('http://www.google.com/base/feeds/snippets/18434163358494173665', ...),\n",
       "            ('http://www.google.com/base/feeds/snippets/18363672170449359273', ...),\n",
       "            ('http://www.google.com/base/feeds/snippets/18431790997623472871', ...),\n",
       "            ('http://www.google.com/base/feeds/snippets/18434733520229761009', ...),\n",
       "            ('http://www.google.com/base/feeds/snippets/18434262004669557918', ...),\n",
       "            ...\n",
       "            ('http://www.google.com/base/feeds/snippets/18037480601440105621', ...),\n",
       "            ( 'http://www.google.com/base/feeds/snippets/9522193715675586199', ...),\n",
       "            ('http://www.google.com/base/feeds/snippets/17602054056835540213', ...),\n",
       "            ('http://www.google.com/base/feeds/snippets/17707372056830171464', ...),\n",
       "            ('http://www.google.com/base/feeds/snippets/17715266298340609214', ...),\n",
       "            ('http://www.google.com/base/feeds/snippets/17738870551709614779', ...),\n",
       "            ('http://www.google.com/base/feeds/snippets/17737819843616715912', ...),\n",
       "            ('http://www.google.com/base/feeds/snippets/17724977097925207764', ...),\n",
       "            ('http://www.google.com/base/feeds/snippets/13212739364324191667', ...),\n",
       "            ('http://www.google.com/base/feeds/snippets/17733079574233143461', ...)],\n",
       "           names=['idGoogle', 'idAmazon'], length=1300)"
      ]
     },
     "execution_count": 124,
     "metadata": {},
     "output_type": "execute_result"
    }
   ],
   "source": [
    "matches.index"
   ]
  },
  {
   "cell_type": "code",
   "execution_count": 135,
   "metadata": {},
   "outputs": [
    {
     "name": "stdout",
     "output_type": "stream",
     "text": [
      "[[  24  235]\n",
      " [1276 1882]]\n",
      "Precision: 0.018461538461538463\n",
      "Recall: 0.09266409266409266\n",
      "F-Measure: 0.03078896728672226\n"
     ]
    }
   ],
   "source": [
    "# Get the confusion matrix\n",
    "confusion_matrix=rl.confusion_matrix(prediction,matches,len(features))\n",
    "\n",
    "print(confusion_matrix)\n",
    "\n",
    "\n",
    "print(\"Precision:\",rl.precision(confusion_matrix))\n",
    "print(\"Recall:\",rl.recall(confusion_matrix))\n",
    "print(\"F-Measure:\",rl.fscore(confusion_matrix))"
   ]
  },
  {
   "cell_type": "code",
   "execution_count": null,
   "metadata": {},
   "outputs": [],
   "source": []
  },
  {
   "cell_type": "code",
   "execution_count": null,
   "metadata": {},
   "outputs": [],
   "source": []
  }
 ],
 "metadata": {
  "kernelspec": {
   "display_name": ".venv",
   "language": "python",
   "name": "python3"
  },
  "language_info": {
   "codemirror_mode": {
    "name": "ipython",
    "version": 3
   },
   "file_extension": ".py",
   "mimetype": "text/x-python",
   "name": "python",
   "nbconvert_exporter": "python",
   "pygments_lexer": "ipython3",
   "version": "3.12.0"
  }
 },
 "nbformat": 4,
 "nbformat_minor": 2
}
