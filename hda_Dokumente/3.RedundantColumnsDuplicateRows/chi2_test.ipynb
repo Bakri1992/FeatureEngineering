{
 "cells": [
  {
   "cell_type": "code",
   "execution_count": 1,
   "metadata": {},
   "outputs": [],
   "source": [
    "import pandas as pd\n",
    "import seaborn as sns\n",
    "import numpy as np\n",
    "import scipy.stats as st\n",
    "import matplotlib.pyplot as plt\n",
    "from sklearn.feature_selection import r_regression"
   ]
  },
  {
   "cell_type": "code",
   "execution_count": 2,
   "metadata": {},
   "outputs": [],
   "source": [
    "df=sns.load_dataset(\"tips\")"
   ]
  },
  {
   "cell_type": "code",
   "execution_count": 3,
   "metadata": {},
   "outputs": [
    {
     "data": {
      "text/html": [
       "<div>\n",
       "<style scoped>\n",
       "    .dataframe tbody tr th:only-of-type {\n",
       "        vertical-align: middle;\n",
       "    }\n",
       "\n",
       "    .dataframe tbody tr th {\n",
       "        vertical-align: top;\n",
       "    }\n",
       "\n",
       "    .dataframe thead th {\n",
       "        text-align: right;\n",
       "    }\n",
       "</style>\n",
       "<table border=\"1\" class=\"dataframe\">\n",
       "  <thead>\n",
       "    <tr style=\"text-align: right;\">\n",
       "      <th></th>\n",
       "      <th>total_bill</th>\n",
       "      <th>tip</th>\n",
       "      <th>sex</th>\n",
       "      <th>smoker</th>\n",
       "      <th>day</th>\n",
       "      <th>time</th>\n",
       "      <th>size</th>\n",
       "    </tr>\n",
       "  </thead>\n",
       "  <tbody>\n",
       "    <tr>\n",
       "      <th>0</th>\n",
       "      <td>16.99</td>\n",
       "      <td>1.01</td>\n",
       "      <td>Female</td>\n",
       "      <td>No</td>\n",
       "      <td>Sun</td>\n",
       "      <td>Dinner</td>\n",
       "      <td>2</td>\n",
       "    </tr>\n",
       "    <tr>\n",
       "      <th>1</th>\n",
       "      <td>10.34</td>\n",
       "      <td>1.66</td>\n",
       "      <td>Male</td>\n",
       "      <td>No</td>\n",
       "      <td>Sun</td>\n",
       "      <td>Dinner</td>\n",
       "      <td>3</td>\n",
       "    </tr>\n",
       "    <tr>\n",
       "      <th>2</th>\n",
       "      <td>21.01</td>\n",
       "      <td>3.50</td>\n",
       "      <td>Male</td>\n",
       "      <td>No</td>\n",
       "      <td>Sun</td>\n",
       "      <td>Dinner</td>\n",
       "      <td>3</td>\n",
       "    </tr>\n",
       "    <tr>\n",
       "      <th>3</th>\n",
       "      <td>23.68</td>\n",
       "      <td>3.31</td>\n",
       "      <td>Male</td>\n",
       "      <td>No</td>\n",
       "      <td>Sun</td>\n",
       "      <td>Dinner</td>\n",
       "      <td>2</td>\n",
       "    </tr>\n",
       "    <tr>\n",
       "      <th>4</th>\n",
       "      <td>24.59</td>\n",
       "      <td>3.61</td>\n",
       "      <td>Female</td>\n",
       "      <td>No</td>\n",
       "      <td>Sun</td>\n",
       "      <td>Dinner</td>\n",
       "      <td>4</td>\n",
       "    </tr>\n",
       "  </tbody>\n",
       "</table>\n",
       "</div>"
      ],
      "text/plain": [
       "   total_bill   tip     sex smoker  day    time  size\n",
       "0       16.99  1.01  Female     No  Sun  Dinner     2\n",
       "1       10.34  1.66    Male     No  Sun  Dinner     3\n",
       "2       21.01  3.50    Male     No  Sun  Dinner     3\n",
       "3       23.68  3.31    Male     No  Sun  Dinner     2\n",
       "4       24.59  3.61  Female     No  Sun  Dinner     4"
      ]
     },
     "execution_count": 3,
     "metadata": {},
     "output_type": "execute_result"
    }
   ],
   "source": [
    "df.head()"
   ]
  },
  {
   "cell_type": "code",
   "execution_count": 4,
   "metadata": {},
   "outputs": [
    {
     "name": "stdout",
     "output_type": "stream",
     "text": [
      "<class 'pandas.core.frame.DataFrame'>\n",
      "RangeIndex: 244 entries, 0 to 243\n",
      "Data columns (total 7 columns):\n",
      " #   Column      Non-Null Count  Dtype   \n",
      "---  ------      --------------  -----   \n",
      " 0   total_bill  244 non-null    float64 \n",
      " 1   tip         244 non-null    float64 \n",
      " 2   sex         244 non-null    category\n",
      " 3   smoker      244 non-null    category\n",
      " 4   day         244 non-null    category\n",
      " 5   time        244 non-null    category\n",
      " 6   size        244 non-null    int64   \n",
      "dtypes: category(4), float64(2), int64(1)\n",
      "memory usage: 7.4 KB\n"
     ]
    }
   ],
   "source": [
    "df.info()"
   ]
  },
  {
   "cell_type": "markdown",
   "metadata": {},
   "source": [
    "##### Lets do chi-square-test on smoker & sex to find out if they are independent:"
   ]
  },
  {
   "cell_type": "code",
   "execution_count": 5,
   "metadata": {},
   "outputs": [
    {
     "data": {
      "text/html": [
       "<div>\n",
       "<style scoped>\n",
       "    .dataframe tbody tr th:only-of-type {\n",
       "        vertical-align: middle;\n",
       "    }\n",
       "\n",
       "    .dataframe tbody tr th {\n",
       "        vertical-align: top;\n",
       "    }\n",
       "\n",
       "    .dataframe thead th {\n",
       "        text-align: right;\n",
       "    }\n",
       "</style>\n",
       "<table border=\"1\" class=\"dataframe\">\n",
       "  <thead>\n",
       "    <tr style=\"text-align: right;\">\n",
       "      <th>smoker</th>\n",
       "      <th>Yes</th>\n",
       "      <th>No</th>\n",
       "    </tr>\n",
       "    <tr>\n",
       "      <th>sex</th>\n",
       "      <th></th>\n",
       "      <th></th>\n",
       "    </tr>\n",
       "  </thead>\n",
       "  <tbody>\n",
       "    <tr>\n",
       "      <th>Male</th>\n",
       "      <td>60</td>\n",
       "      <td>97</td>\n",
       "    </tr>\n",
       "    <tr>\n",
       "      <th>Female</th>\n",
       "      <td>33</td>\n",
       "      <td>54</td>\n",
       "    </tr>\n",
       "  </tbody>\n",
       "</table>\n",
       "</div>"
      ],
      "text/plain": [
       "smoker  Yes  No\n",
       "sex            \n",
       "Male     60  97\n",
       "Female   33  54"
      ]
     },
     "execution_count": 5,
     "metadata": {},
     "output_type": "execute_result"
    }
   ],
   "source": [
    "# crosstab will show me the frequency table of both feature\n",
    "table=pd.crosstab(df[\"sex\"],df[\"smoker\"])\n",
    "table"
   ]
  },
  {
   "cell_type": "code",
   "execution_count": 10,
   "metadata": {},
   "outputs": [
    {
     "name": "stdout",
     "output_type": "stream",
     "text": [
      "Observer Values\n",
      " [[60 97]\n",
      " [33 54]]\n"
     ]
    }
   ],
   "source": [
    "# Observed Values\n",
    "Observerd_Values=table.values\n",
    "print(\"Observer Values\\n\",Observerd_Values)\n",
    "# print(type(Observerd_Values))"
   ]
  },
  {
   "cell_type": "code",
   "execution_count": 52,
   "metadata": {},
   "outputs": [
    {
     "name": "stdout",
     "output_type": "stream",
     "text": [
      "Chi-Quadrat Statistik: 0.0\n",
      "p-Wert: 1.0\n",
      "Freiheitsgrade: 1\n",
      "Erwartete Werte:\n",
      "[[59.84016393 97.15983607]\n",
      " [33.15983607 53.84016393]]\n"
     ]
    }
   ],
   "source": [
    "# Using chi2_contigency we get the expected frequency \n",
    "# We get also p-value and degree of freedom\n",
    "chi2, p, dof, expected=st.chi2_contingency(table)\n",
    "print(f\"Chi-Quadrat Statistik: {chi2}\")\n",
    "print(f\"p-Wert: {p}\")\n",
    "print(f\"Freiheitsgrade: {dof}\")\n",
    "print(f\"Erwartete Werte:\\n{expected}\")\n",
    "# chi-Quadrat Statistik=0 => Ein Wert  von 0 deutet darauf hin\n",
    "# dass zischen obs & "
   ]
  },
  {
   "cell_type": "markdown",
   "metadata": {},
   "source": [
    "statistic=0.0: Dies ist der Wert der Chi-Quadrat-Statistik. Ein Wert von 0.0 deutet darauf hin, dass zwischen den beobachteten und den erwarteten Häufigkeiten kein Unterschied besteht. Je höher dieser Wert, desto unwahrscheinlicher ist es, dass die beobachteten Abweichungen zufällig sind"
   ]
  },
  {
   "cell_type": "code",
   "execution_count": 32,
   "metadata": {},
   "outputs": [
    {
     "name": "stdout",
     "output_type": "stream",
     "text": [
      "Degree of freedom: 1\n"
     ]
    }
   ],
   "source": [
    "no_of_rows=table.shape[0]\n",
    "no_of_cols=table.shape[1]\n",
    "degree_of_freedom=(no_of_rows-1)*(no_of_cols-1)\n",
    "print(f\"Degree of freedom: {degree_of_freedom}\")"
   ]
  },
  {
   "cell_type": "code",
   "execution_count": 51,
   "metadata": {},
   "outputs": [
    {
     "data": {
      "text/plain": [
       "array([['Female', 'No'],\n",
       "       ['Male', 'No'],\n",
       "       ['Male', 'No'],\n",
       "       ['Male', 'No'],\n",
       "       ['Female', 'No'],\n",
       "       ['Male', 'No'],\n",
       "       ['Male', 'No'],\n",
       "       ['Male', 'No'],\n",
       "       ['Male', 'No'],\n",
       "       ['Male', 'No'],\n",
       "       ['Male', 'No'],\n",
       "       ['Female', 'No'],\n",
       "       ['Male', 'No'],\n",
       "       ['Male', 'No'],\n",
       "       ['Female', 'No'],\n",
       "       ['Male', 'No'],\n",
       "       ['Female', 'No'],\n",
       "       ['Male', 'No'],\n",
       "       ['Female', 'No'],\n",
       "       ['Male', 'No'],\n",
       "       ['Male', 'No'],\n",
       "       ['Female', 'No'],\n",
       "       ['Female', 'No'],\n",
       "       ['Male', 'No'],\n",
       "       ['Male', 'No'],\n",
       "       ['Male', 'No'],\n",
       "       ['Male', 'No'],\n",
       "       ['Male', 'No'],\n",
       "       ['Male', 'No'],\n",
       "       ['Female', 'No'],\n",
       "       ['Male', 'No'],\n",
       "       ['Male', 'No'],\n",
       "       ['Female', 'No'],\n",
       "       ['Female', 'No'],\n",
       "       ['Male', 'No'],\n",
       "       ['Male', 'No'],\n",
       "       ['Male', 'No'],\n",
       "       ['Female', 'No'],\n",
       "       ['Male', 'No'],\n",
       "       ['Male', 'No'],\n",
       "       ['Male', 'No'],\n",
       "       ['Male', 'No'],\n",
       "       ['Male', 'No'],\n",
       "       ['Male', 'No'],\n",
       "       ['Male', 'No'],\n",
       "       ['Male', 'No'],\n",
       "       ['Male', 'No'],\n",
       "       ['Male', 'No'],\n",
       "       ['Male', 'No'],\n",
       "       ['Male', 'No'],\n",
       "       ['Male', 'No'],\n",
       "       ['Female', 'No'],\n",
       "       ['Female', 'No'],\n",
       "       ['Male', 'No'],\n",
       "       ['Male', 'No'],\n",
       "       ['Male', 'No'],\n",
       "       ['Male', 'Yes'],\n",
       "       ['Female', 'No'],\n",
       "       ['Male', 'Yes'],\n",
       "       ['Male', 'No'],\n",
       "       ['Male', 'Yes'],\n",
       "       ['Male', 'Yes'],\n",
       "       ['Male', 'Yes'],\n",
       "       ['Male', 'Yes'],\n",
       "       ['Male', 'No'],\n",
       "       ['Male', 'No'],\n",
       "       ['Female', 'No'],\n",
       "       ['Female', 'Yes'],\n",
       "       ['Male', 'No'],\n",
       "       ['Male', 'Yes'],\n",
       "       ['Male', 'No'],\n",
       "       ['Female', 'No'],\n",
       "       ['Female', 'Yes'],\n",
       "       ['Female', 'Yes'],\n",
       "       ['Female', 'No'],\n",
       "       ['Male', 'No'],\n",
       "       ['Male', 'Yes'],\n",
       "       ['Male', 'No'],\n",
       "       ['Male', 'No'],\n",
       "       ['Male', 'No'],\n",
       "       ['Male', 'Yes'],\n",
       "       ['Male', 'No'],\n",
       "       ['Female', 'No'],\n",
       "       ['Male', 'Yes'],\n",
       "       ['Male', 'No'],\n",
       "       ['Female', 'No'],\n",
       "       ['Male', 'No'],\n",
       "       ['Male', 'No'],\n",
       "       ['Male', 'No'],\n",
       "       ['Male', 'No'],\n",
       "       ['Male', 'Yes'],\n",
       "       ['Male', 'No'],\n",
       "       ['Female', 'Yes'],\n",
       "       ['Female', 'Yes'],\n",
       "       ['Female', 'No'],\n",
       "       ['Male', 'Yes'],\n",
       "       ['Male', 'Yes'],\n",
       "       ['Male', 'Yes'],\n",
       "       ['Male', 'Yes'],\n",
       "       ['Male', 'No'],\n",
       "       ['Female', 'Yes'],\n",
       "       ['Female', 'Yes'],\n",
       "       ['Female', 'Yes'],\n",
       "       ['Female', 'Yes'],\n",
       "       ['Female', 'No'],\n",
       "       ['Male', 'Yes'],\n",
       "       ['Male', 'Yes'],\n",
       "       ['Male', 'Yes'],\n",
       "       ['Male', 'No'],\n",
       "       ['Female', 'Yes'],\n",
       "       ['Male', 'No'],\n",
       "       ['Female', 'No'],\n",
       "       ['Male', 'No'],\n",
       "       ['Male', 'No'],\n",
       "       ['Female', 'No'],\n",
       "       ['Female', 'No'],\n",
       "       ['Male', 'No'],\n",
       "       ['Female', 'No'],\n",
       "       ['Female', 'No'],\n",
       "       ['Female', 'No'],\n",
       "       ['Male', 'No'],\n",
       "       ['Female', 'No'],\n",
       "       ['Male', 'No'],\n",
       "       ['Male', 'No'],\n",
       "       ['Female', 'No'],\n",
       "       ['Female', 'No'],\n",
       "       ['Male', 'No'],\n",
       "       ['Female', 'No'],\n",
       "       ['Female', 'No'],\n",
       "       ['Male', 'No'],\n",
       "       ['Male', 'No'],\n",
       "       ['Female', 'No'],\n",
       "       ['Female', 'No'],\n",
       "       ['Female', 'No'],\n",
       "       ['Female', 'No'],\n",
       "       ['Female', 'No'],\n",
       "       ['Female', 'No'],\n",
       "       ['Female', 'No'],\n",
       "       ['Male', 'Yes'],\n",
       "       ['Female', 'No'],\n",
       "       ['Female', 'No'],\n",
       "       ['Male', 'No'],\n",
       "       ['Male', 'No'],\n",
       "       ['Female', 'No'],\n",
       "       ['Female', 'No'],\n",
       "       ['Female', 'No'],\n",
       "       ['Female', 'No'],\n",
       "       ['Female', 'No'],\n",
       "       ['Male', 'No'],\n",
       "       ['Male', 'No'],\n",
       "       ['Male', 'No'],\n",
       "       ['Male', 'No'],\n",
       "       ['Male', 'No'],\n",
       "       ['Male', 'No'],\n",
       "       ['Male', 'No'],\n",
       "       ['Female', 'No'],\n",
       "       ['Male', 'No'],\n",
       "       ['Female', 'No'],\n",
       "       ['Female', 'No'],\n",
       "       ['Male', 'No'],\n",
       "       ['Male', 'No'],\n",
       "       ['Male', 'No'],\n",
       "       ['Female', 'No'],\n",
       "       ['Male', 'No'],\n",
       "       ['Female', 'Yes'],\n",
       "       ['Male', 'No'],\n",
       "       ['Male', 'No'],\n",
       "       ['Male', 'No'],\n",
       "       ['Female', 'Yes'],\n",
       "       ['Female', 'Yes'],\n",
       "       ['Male', 'Yes'],\n",
       "       ['Male', 'Yes'],\n",
       "       ['Male', 'Yes'],\n",
       "       ['Male', 'Yes'],\n",
       "       ['Male', 'Yes'],\n",
       "       ['Male', 'Yes'],\n",
       "       ['Male', 'Yes'],\n",
       "       ['Male', 'Yes'],\n",
       "       ['Female', 'Yes'],\n",
       "       ['Male', 'Yes'],\n",
       "       ['Male', 'Yes'],\n",
       "       ['Male', 'Yes'],\n",
       "       ['Male', 'Yes'],\n",
       "       ['Male', 'Yes'],\n",
       "       ['Male', 'Yes'],\n",
       "       ['Male', 'No'],\n",
       "       ['Female', 'Yes'],\n",
       "       ['Male', 'Yes'],\n",
       "       ['Female', 'Yes'],\n",
       "       ['Male', 'Yes'],\n",
       "       ['Male', 'Yes'],\n",
       "       ['Female', 'Yes'],\n",
       "       ['Male', 'Yes'],\n",
       "       ['Male', 'Yes'],\n",
       "       ['Male', 'Yes'],\n",
       "       ['Male', 'No'],\n",
       "       ['Male', 'Yes'],\n",
       "       ['Female', 'Yes'],\n",
       "       ['Female', 'Yes'],\n",
       "       ['Male', 'Yes'],\n",
       "       ['Male', 'Yes'],\n",
       "       ['Female', 'Yes'],\n",
       "       ['Female', 'Yes'],\n",
       "       ['Female', 'Yes'],\n",
       "       ['Male', 'Yes'],\n",
       "       ['Female', 'Yes'],\n",
       "       ['Male', 'Yes'],\n",
       "       ['Male', 'Yes'],\n",
       "       ['Male', 'Yes'],\n",
       "       ['Female', 'Yes'],\n",
       "       ['Male', 'Yes'],\n",
       "       ['Male', 'Yes'],\n",
       "       ['Male', 'No'],\n",
       "       ['Female', 'Yes'],\n",
       "       ['Female', 'Yes'],\n",
       "       ['Female', 'Yes'],\n",
       "       ['Male', 'Yes'],\n",
       "       ['Male', 'Yes'],\n",
       "       ['Male', 'Yes'],\n",
       "       ['Female', 'Yes'],\n",
       "       ['Male', 'Yes'],\n",
       "       ['Female', 'Yes'],\n",
       "       ['Male', 'Yes'],\n",
       "       ['Female', 'No'],\n",
       "       ['Male', 'Yes'],\n",
       "       ['Female', 'Yes'],\n",
       "       ['Female', 'Yes'],\n",
       "       ['Male', 'No'],\n",
       "       ['Male', 'No'],\n",
       "       ['Female', 'Yes'],\n",
       "       ['Male', 'Yes'],\n",
       "       ['Male', 'Yes'],\n",
       "       ['Male', 'No'],\n",
       "       ['Male', 'No'],\n",
       "       ['Male', 'Yes'],\n",
       "       ['Male', 'No'],\n",
       "       ['Male', 'Yes'],\n",
       "       ['Male', 'Yes'],\n",
       "       ['Female', 'No'],\n",
       "       ['Male', 'No'],\n",
       "       ['Female', 'Yes'],\n",
       "       ['Male', 'Yes'],\n",
       "       ['Male', 'No'],\n",
       "       ['Female', 'No']], dtype=object)"
      ]
     },
     "execution_count": 51,
     "metadata": {},
     "output_type": "execute_result"
    }
   ],
   "source": [
    "# Using .values  we can make a dataframe a numpy array\n",
    "X = df[['sex', 'smoker']].values\n",
    "X"
   ]
  },
  {
   "cell_type": "code",
   "execution_count": 14,
   "metadata": {},
   "outputs": [
    {
     "data": {
      "text/plain": [
       "(244, 2)"
      ]
     },
     "execution_count": 14,
     "metadata": {},
     "output_type": "execute_result"
    }
   ],
   "source": [
    "X.shape"
   ]
  },
  {
   "cell_type": "markdown",
   "metadata": {},
   "source": [
    "##### Correlation zwischen den numerischen Variablen:"
   ]
  },
  {
   "cell_type": "code",
   "execution_count": 19,
   "metadata": {},
   "outputs": [
    {
     "data": {
      "text/html": [
       "<div>\n",
       "<style scoped>\n",
       "    .dataframe tbody tr th:only-of-type {\n",
       "        vertical-align: middle;\n",
       "    }\n",
       "\n",
       "    .dataframe tbody tr th {\n",
       "        vertical-align: top;\n",
       "    }\n",
       "\n",
       "    .dataframe thead th {\n",
       "        text-align: right;\n",
       "    }\n",
       "</style>\n",
       "<table border=\"1\" class=\"dataframe\">\n",
       "  <thead>\n",
       "    <tr style=\"text-align: right;\">\n",
       "      <th></th>\n",
       "      <th>total_bill</th>\n",
       "      <th>tip</th>\n",
       "      <th>size</th>\n",
       "    </tr>\n",
       "  </thead>\n",
       "  <tbody>\n",
       "    <tr>\n",
       "      <th>total_bill</th>\n",
       "      <td>1.000000</td>\n",
       "      <td>0.675734</td>\n",
       "      <td>0.598315</td>\n",
       "    </tr>\n",
       "    <tr>\n",
       "      <th>tip</th>\n",
       "      <td>0.675734</td>\n",
       "      <td>1.000000</td>\n",
       "      <td>0.489299</td>\n",
       "    </tr>\n",
       "    <tr>\n",
       "      <th>size</th>\n",
       "      <td>0.598315</td>\n",
       "      <td>0.489299</td>\n",
       "      <td>1.000000</td>\n",
       "    </tr>\n",
       "  </tbody>\n",
       "</table>\n",
       "</div>"
      ],
      "text/plain": [
       "            total_bill       tip      size\n",
       "total_bill    1.000000  0.675734  0.598315\n",
       "tip           0.675734  1.000000  0.489299\n",
       "size          0.598315  0.489299  1.000000"
      ]
     },
     "execution_count": 19,
     "metadata": {},
     "output_type": "execute_result"
    }
   ],
   "source": [
    "X=df[['total_bill', 'tip','size']]\n",
    "matrix=X.corr()\n",
    "matrix"
   ]
  },
  {
   "cell_type": "code",
   "execution_count": 24,
   "metadata": {},
   "outputs": [
    {
     "data": {
      "text/plain": [
       "<matplotlib.collections.PathCollection at 0x2d6625fc590>"
      ]
     },
     "execution_count": 24,
     "metadata": {},
     "output_type": "execute_result"
    },
    {
     "data": {
      "image/png": "[encoded data removed]",
      "text/plain": [
       "<Figure size 640x480 with 1 Axes>"
      ]
     },
     "metadata": {},
     "output_type": "display_data"
    }
   ],
   "source": [
    "plt.scatter(df[\"size\"],df[\"tip\"])"
   ]
  },
  {
   "cell_type": "code",
   "execution_count": 29,
   "metadata": {},
   "outputs": [
    {
     "data": {
      "text/plain": [
       "<Axes: xlabel='total_bill', ylabel='tip'>"
      ]
     },
     "execution_count": 29,
     "metadata": {},
     "output_type": "execute_result"
    },
    {
     "data": {
      "image/png": "[encoded data removed]",
      "text/plain": [
       "<Figure size 640x480 with 1 Axes>"
      ]
     },
     "metadata": {},
     "output_type": "display_data"
    }
   ],
   "source": [
    "# We can do the plotting using df.plot.scatter in pandas\n",
    "df.plot.scatter(\"total_bill\",\"tip\")"
   ]
  },
  {
   "cell_type": "code",
   "execution_count": 27,
   "metadata": {},
   "outputs": [
    {
     "data": {
      "text/plain": [
       "<Axes: >"
      ]
     },
     "execution_count": 27,
     "metadata": {},
     "output_type": "execute_result"
    },
    {
     "data": {
      "image/png": "[encoded data removed]",
      "text/plain": [
       "<Figure size 640x480 with 2 Axes>"
      ]
     },
     "metadata": {},
     "output_type": "display_data"
    }
   ],
   "source": [
    "# We can give the heat-map to visualize the correlation\n",
    "# annot=True to get the corr value\n",
    "sns.heatmap(matrix,annot=True)"
   ]
  },
  {
   "cell_type": "markdown",
   "metadata": {},
   "source": [
    "##### How to use the r_regression:"
   ]
  },
  {
   "cell_type": "code",
   "execution_count": 5,
   "metadata": {},
   "outputs": [
    {
     "data": {
      "text/plain": [
       "array([0.48929878, 0.67573411])"
      ]
     },
     "execution_count": 5,
     "metadata": {},
     "output_type": "execute_result"
    }
   ],
   "source": [
    "X=df[[\"size\",\"total_bill\"]]\n",
    "y=df[\"tip\"]\n",
    "korr=r_regression(X,y)\n",
    "korr"
   ]
  }
 ],
 "metadata": {
  "kernelspec": {
   "display_name": "Python 3",
   "language": "python",
   "name": "python3"
  },
  "language_info": {
   "codemirror_mode": {
    "name": "ipython",
    "version": 3
   },
   "file_extension": ".py",
   "mimetype": "text/x-python",
   "name": "python",
   "nbconvert_exporter": "python",
   "pygments_lexer": "ipython3",
   "version": "3.12.0"
  }
 },
 "nbformat": 4,
 "nbformat_minor": 2
}
