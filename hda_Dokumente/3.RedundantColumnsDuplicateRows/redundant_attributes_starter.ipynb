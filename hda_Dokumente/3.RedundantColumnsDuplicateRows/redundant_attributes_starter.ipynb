{
 "cells": [
  {
   "cell_type": "markdown",
   "metadata": {},
   "source": [
    "### Finding redundant Variables"
   ]
  },
  {
   "cell_type": "code",
   "execution_count": 1,
   "metadata": {},
   "outputs": [],
   "source": [
    "import pandas as pd\n",
    "from scipy.stats import chi2_contingency\n",
    "from sklearn.feature_selection import chi2"
   ]
  },
  {
   "cell_type": "code",
   "execution_count": 2,
   "metadata": {},
   "outputs": [],
   "source": [
    "df = pd.read_csv('online_retail_customer_churn.csv')"
   ]
  },
  {
   "cell_type": "code",
   "execution_count": 6,
   "metadata": {},
   "outputs": [
    {
     "name": "stdout",
     "output_type": "stream",
     "text": [
      "<class 'pandas.core.frame.DataFrame'>\n",
      "RangeIndex: 1000 entries, 0 to 999\n",
      "Data columns (total 15 columns):\n",
      " #   Column                      Non-Null Count  Dtype  \n",
      "---  ------                      --------------  -----  \n",
      " 0   Customer_ID                 1000 non-null   int64  \n",
      " 1   Age                         1000 non-null   int64  \n",
      " 2   Gender                      1000 non-null   object \n",
      " 3   Annual_Income               1000 non-null   float64\n",
      " 4   Total_Spend                 1000 non-null   float64\n",
      " 5   Years_as_Customer           1000 non-null   int64  \n",
      " 6   Num_of_Purchases            1000 non-null   int64  \n",
      " 7   Average_Transaction_Amount  1000 non-null   float64\n",
      " 8   Num_of_Returns              1000 non-null   int64  \n",
      " 9   Num_of_Support_Contacts     1000 non-null   int64  \n",
      " 10  Satisfaction_Score          1000 non-null   int64  \n",
      " 11  Last_Purchase_Days_Ago      1000 non-null   int64  \n",
      " 12  Email_Opt_In                1000 non-null   bool   \n",
      " 13  Promotion_Response          1000 non-null   object \n",
      " 14  Target_Churn                1000 non-null   bool   \n",
      "dtypes: bool(2), float64(3), int64(8), object(2)\n",
      "memory usage: 103.6+ KB\n"
     ]
    }
   ],
   "source": [
    "df.info()\n",
    "# Hier kann man bemerken, dass Gender,Promotion_Response \n",
    "# beide Categorische Variablen sind"
   ]
  },
  {
   "cell_type": "code",
   "execution_count": null,
   "metadata": {},
   "outputs": [],
   "source": []
  }
 ],
 "metadata": {
  "kernelspec": {
   "display_name": ".venv",
   "language": "python",
   "name": "python3"
  },
  "language_info": {
   "codemirror_mode": {
    "name": "ipython",
    "version": 3
   },
   "file_extension": ".py",
   "mimetype": "text/x-python",
   "name": "python",
   "nbconvert_exporter": "python",
   "pygments_lexer": "ipython3",
   "version": "3.12.0"
  }
 },
 "nbformat": 4,
 "nbformat_minor": 2
}
