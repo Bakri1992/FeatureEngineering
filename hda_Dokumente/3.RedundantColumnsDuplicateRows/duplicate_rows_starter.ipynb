{
 "cells": [
  {
   "cell_type": "markdown",
   "metadata": {},
   "source": [
    "### Preprocessing"
   ]
  },
  {
   "cell_type": "code",
   "execution_count": 16,
   "metadata": {},
   "outputs": [],
   "source": [
    "from recordlinkage.standardise import clean\n",
    "import pandas as pd\n",
    "\n",
    "df = pd.read_csv('../Data/names_adress.csv')\n",
    "\n",
    "# Default Cleaning\n",
    "df[\"name_clean_default\"] = clean(df[\"name\"])\n",
    "\n",
    "# Clean the `occupation` column, but keep brackets and their contents.\n",
    "df[\"occupation_clean\"]= clean(df[\"occupation\"],\n",
    "                              replace_by_none='[^ \\\\-\\\\_A-Za-z0-9]+',\n",
    "                              remove_brackets=False)"
   ]
  },
  {
   "cell_type": "code",
   "execution_count": 17,
   "metadata": {},
   "outputs": [
    {
     "data": {
      "text/html": [
       "<div>\n",
       "<style scoped>\n",
       "    .dataframe tbody tr th:only-of-type {\n",
       "        vertical-align: middle;\n",
       "    }\n",
       "\n",
       "    .dataframe tbody tr th {\n",
       "        vertical-align: top;\n",
       "    }\n",
       "\n",
       "    .dataframe thead th {\n",
       "        text-align: right;\n",
       "    }\n",
       "</style>\n",
       "<table border=\"1\" class=\"dataframe\">\n",
       "  <thead>\n",
       "    <tr style=\"text-align: right;\">\n",
       "      <th></th>\n",
       "      <th>name</th>\n",
       "      <th>phone_number</th>\n",
       "      <th>occupation</th>\n",
       "      <th>address</th>\n",
       "      <th>name_clean_default</th>\n",
       "      <th>occupation_clean</th>\n",
       "    </tr>\n",
       "  </thead>\n",
       "  <tbody>\n",
       "    <tr>\n",
       "      <th>0</th>\n",
       "      <td>1. Rachel Green</td>\n",
       "      <td>1(613)555 0149</td>\n",
       "      <td>buyer (fashion)</td>\n",
       "      <td>90 Bedford Street, Apt 20</td>\n",
       "      <td>1 rachel green</td>\n",
       "      <td>buyer fashion</td>\n",
       "    </tr>\n",
       "    <tr>\n",
       "      <th>1</th>\n",
       "      <td>2. Ross Geller</td>\n",
       "      <td>+1-613-555-0138</td>\n",
       "      <td>paleontogist</td>\n",
       "      <td>100 Grove Street, Apartment 16</td>\n",
       "      <td>2 ross geller</td>\n",
       "      <td>paleontogist</td>\n",
       "    </tr>\n",
       "    <tr>\n",
       "      <th>2</th>\n",
       "      <td>3. Mönica Geller</td>\n",
       "      <td>16135550185</td>\n",
       "      <td>Chef</td>\n",
       "      <td>90 Bedford Street, Apt 20</td>\n",
       "      <td>3 mnica geller</td>\n",
       "      <td>chef</td>\n",
       "    </tr>\n",
       "    <tr>\n",
       "      <th>3</th>\n",
       "      <td>4. Chandler BING</td>\n",
       "      <td>1 613 555 0161</td>\n",
       "      <td>???</td>\n",
       "      <td>90 Bedford Street, Apt 19</td>\n",
       "      <td>4 chandler bing</td>\n",
       "      <td></td>\n",
       "    </tr>\n",
       "    <tr>\n",
       "      <th>4</th>\n",
       "      <td>5. Pheobe Buffay</td>\n",
       "      <td>1(613)5550114</td>\n",
       "      <td>musician</td>\n",
       "      <td>5 Morton Street, Apt. 14</td>\n",
       "      <td>5 pheobe buffay</td>\n",
       "      <td>musician</td>\n",
       "    </tr>\n",
       "    <tr>\n",
       "      <th>5</th>\n",
       "      <td>6. Joseph (Joey) Tribbiani</td>\n",
       "      <td>1(613)555-0148</td>\n",
       "      <td>actor</td>\n",
       "      <td>90 Bedford Street, Apt 19</td>\n",
       "      <td>6 joseph tribbiani</td>\n",
       "      <td>actor</td>\n",
       "    </tr>\n",
       "  </tbody>\n",
       "</table>\n",
       "</div>"
      ],
      "text/plain": [
       "                         name     phone_number       occupation  \\\n",
       "0             1. Rachel Green   1(613)555 0149  buyer (fashion)   \n",
       "1              2. Ross Geller  +1-613-555-0138     paleontogist   \n",
       "2            3. Mönica Geller      16135550185             Chef   \n",
       "3            4. Chandler BING   1 613 555 0161              ???   \n",
       "4            5. Pheobe Buffay    1(613)5550114         musician   \n",
       "5  6. Joseph (Joey) Tribbiani   1(613)555-0148            actor   \n",
       "\n",
       "                          address  name_clean_default occupation_clean  \n",
       "0       90 Bedford Street, Apt 20      1 rachel green    buyer fashion  \n",
       "1  100 Grove Street, Apartment 16       2 ross geller     paleontogist  \n",
       "2       90 Bedford Street, Apt 20      3 mnica geller             chef  \n",
       "3       90 Bedford Street, Apt 19     4 chandler bing                   \n",
       "4        5 Morton Street, Apt. 14     5 pheobe buffay         musician  \n",
       "5       90 Bedford Street, Apt 19  6 joseph tribbiani            actor  "
      ]
     },
     "execution_count": 17,
     "metadata": {},
     "output_type": "execute_result"
    }
   ],
   "source": [
    "df"
   ]
  },
  {
   "cell_type": "markdown",
   "metadata": {},
   "source": [
    "### Indexing"
   ]
  },
  {
   "cell_type": "code",
   "execution_count": 10,
   "metadata": {},
   "outputs": [],
   "source": [
    "import pandas as pd\n",
    "from recordlinkage import index\n",
    "\n",
    "# Name data for indexing\n",
    "names_1 = ['alfred', 'bob', 'calvin', 'hobbes', 'rusty']\n",
    "names_2 = ['alfred', 'danny', 'callum', 'hobie', 'rusty']\n",
    "\n",
    "# Convert to DataFrames\n",
    "df_a = pd.DataFrame({'names': names_1})\n",
    "df_b = pd.DataFrame({'names': names_2})"
   ]
  },
  {
   "cell_type": "markdown",
   "metadata": {},
   "source": []
  }
 ],
 "metadata": {
  "kernelspec": {
   "display_name": ".venv",
   "language": "python",
   "name": "python3"
  },
  "language_info": {
   "codemirror_mode": {
    "name": "ipython",
    "version": 3
   },
   "file_extension": ".py",
   "mimetype": "text/x-python",
   "name": "python",
   "nbconvert_exporter": "python",
   "pygments_lexer": "ipython3",
   "version": "3.11.5"
  }
 },
 "nbformat": 4,
 "nbformat_minor": 2
}
