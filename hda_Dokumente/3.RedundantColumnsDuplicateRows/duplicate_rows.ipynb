{
 "cells": [
  {
   "cell_type": "markdown",
   "metadata": {},
   "source": [
    "### Preprocessing"
   ]
  },
  {
   "cell_type": "code",
   "execution_count": 1,
   "metadata": {},
   "outputs": [],
   "source": [
    "from recordlinkage.standardise import clean\n",
    "import pandas as pd\n",
    "\n",
    "df = pd.read_csv('../Data/names_adress.csv')\n",
    "\n",
    "# Default Cleaning\n",
    "df[\"name_clean_default\"] = clean(df[\"name\"])\n",
    "\n",
    "# Clean the `occupation` column, but keep brackets and their contents.\n",
    "df[\"occupation_clean\"]= clean(df[\"occupation\"],\n",
    "                              replace_by_none='[^ \\\\-\\\\_A-Za-z0-9]+',\n",
    "                              remove_brackets=False)"
   ]
  },
  {
   "cell_type": "code",
   "execution_count": 2,
   "metadata": {},
   "outputs": [
    {
     "data": {
      "text/html": [
       "<div>\n",
       "<style scoped>\n",
       "    .dataframe tbody tr th:only-of-type {\n",
       "        vertical-align: middle;\n",
       "    }\n",
       "\n",
       "    .dataframe tbody tr th {\n",
       "        vertical-align: top;\n",
       "    }\n",
       "\n",
       "    .dataframe thead th {\n",
       "        text-align: right;\n",
       "    }\n",
       "</style>\n",
       "<table border=\"1\" class=\"dataframe\">\n",
       "  <thead>\n",
       "    <tr style=\"text-align: right;\">\n",
       "      <th></th>\n",
       "      <th>name</th>\n",
       "      <th>phone_number</th>\n",
       "      <th>occupation</th>\n",
       "      <th>address</th>\n",
       "      <th>name_clean_default</th>\n",
       "      <th>occupation_clean</th>\n",
       "    </tr>\n",
       "  </thead>\n",
       "  <tbody>\n",
       "    <tr>\n",
       "      <th>0</th>\n",
       "      <td>1. Rachel Green</td>\n",
       "      <td>1(613)555 0149</td>\n",
       "      <td>buyer (fashion)</td>\n",
       "      <td>90 Bedford Street, Apt 20</td>\n",
       "      <td>1 rachel green</td>\n",
       "      <td>buyer fashion</td>\n",
       "    </tr>\n",
       "    <tr>\n",
       "      <th>1</th>\n",
       "      <td>2. Ross Geller</td>\n",
       "      <td>+1-613-555-0138</td>\n",
       "      <td>paleontogist</td>\n",
       "      <td>100 Grove Street, Apartment 16</td>\n",
       "      <td>2 ross geller</td>\n",
       "      <td>paleontogist</td>\n",
       "    </tr>\n",
       "    <tr>\n",
       "      <th>2</th>\n",
       "      <td>3. Mönica Geller</td>\n",
       "      <td>16135550185</td>\n",
       "      <td>Chef</td>\n",
       "      <td>90 Bedford Street, Apt 20</td>\n",
       "      <td>3 mnica geller</td>\n",
       "      <td>chef</td>\n",
       "    </tr>\n",
       "    <tr>\n",
       "      <th>3</th>\n",
       "      <td>4. Chandler BING</td>\n",
       "      <td>1 613 555 0161</td>\n",
       "      <td>???</td>\n",
       "      <td>90 Bedford Street, Apt 19</td>\n",
       "      <td>4 chandler bing</td>\n",
       "      <td></td>\n",
       "    </tr>\n",
       "    <tr>\n",
       "      <th>4</th>\n",
       "      <td>5. Pheobe Buffay</td>\n",
       "      <td>1(613)5550114</td>\n",
       "      <td>musician</td>\n",
       "      <td>5 Morton Street, Apt. 14</td>\n",
       "      <td>5 pheobe buffay</td>\n",
       "      <td>musician</td>\n",
       "    </tr>\n",
       "    <tr>\n",
       "      <th>5</th>\n",
       "      <td>6. Joseph (Joey) Tribbiani</td>\n",
       "      <td>1(613)555-0148</td>\n",
       "      <td>actor</td>\n",
       "      <td>90 Bedford Street, Apt 19</td>\n",
       "      <td>6 joseph tribbiani</td>\n",
       "      <td>actor</td>\n",
       "    </tr>\n",
       "  </tbody>\n",
       "</table>\n",
       "</div>"
      ],
      "text/plain": [
       "                         name     phone_number       occupation  \\\n",
       "0             1. Rachel Green   1(613)555 0149  buyer (fashion)   \n",
       "1              2. Ross Geller  +1-613-555-0138     paleontogist   \n",
       "2            3. Mönica Geller      16135550185             Chef   \n",
       "3            4. Chandler BING   1 613 555 0161              ???   \n",
       "4            5. Pheobe Buffay    1(613)5550114         musician   \n",
       "5  6. Joseph (Joey) Tribbiani   1(613)555-0148            actor   \n",
       "\n",
       "                          address  name_clean_default occupation_clean  \n",
       "0       90 Bedford Street, Apt 20      1 rachel green    buyer fashion  \n",
       "1  100 Grove Street, Apartment 16       2 ross geller     paleontogist  \n",
       "2       90 Bedford Street, Apt 20      3 mnica geller             chef  \n",
       "3       90 Bedford Street, Apt 19     4 chandler bing                   \n",
       "4        5 Morton Street, Apt. 14     5 pheobe buffay         musician  \n",
       "5       90 Bedford Street, Apt 19  6 joseph tribbiani            actor  "
      ]
     },
     "execution_count": 2,
     "metadata": {},
     "output_type": "execute_result"
    }
   ],
   "source": [
    "df"
   ]
  },
  {
   "cell_type": "markdown",
   "metadata": {},
   "source": [
    "### Indexing"
   ]
  },
  {
   "cell_type": "code",
   "execution_count": 3,
   "metadata": {},
   "outputs": [],
   "source": [
    "import pandas as pd\n",
    "from recordlinkage import index\n",
    "\n",
    "# Name data for indexing\n",
    "names_1 = ['alfred', 'bob', 'calvin', 'hobbes', 'rusty']\n",
    "names_2 = ['alfred', 'danny', 'callum', 'hobie', 'rusty']\n",
    "\n",
    "# Convert to DataFrames\n",
    "df_a = pd.DataFrame({'names': names_1})\n",
    "df_b = pd.DataFrame({'names': names_2})"
   ]
  },
  {
   "cell_type": "code",
   "execution_count": 7,
   "metadata": {},
   "outputs": [],
   "source": [
    "indexer = index.Random(n=df_a.shape[0])"
   ]
  },
  {
   "cell_type": "code",
   "execution_count": 9,
   "metadata": {},
   "outputs": [
    {
     "data": {
      "text/plain": [
       "MultiIndex([(2, 2),\n",
       "            (0, 3),\n",
       "            (3, 0),\n",
       "            (3, 1),\n",
       "            (3, 1)],\n",
       "           )"
      ]
     },
     "execution_count": 9,
     "metadata": {},
     "output_type": "execute_result"
    }
   ],
   "source": [
    "indexer.index(df_a, df_b)"
   ]
  },
  {
   "cell_type": "markdown",
   "metadata": {},
   "source": [
    "### Febrl1 dataset"
   ]
  },
  {
   "cell_type": "code",
   "execution_count": 53,
   "metadata": {},
   "outputs": [],
   "source": [
    "from recordlinkage import datasets"
   ]
  },
  {
   "cell_type": "code",
   "execution_count": 54,
   "metadata": {},
   "outputs": [],
   "source": [
    "df = datasets.load_febrl1()"
   ]
  },
  {
   "cell_type": "code",
   "execution_count": 55,
   "metadata": {},
   "outputs": [
    {
     "data": {
      "text/plain": [
       "['given_name',\n",
       " 'surname',\n",
       " 'street_number',\n",
       " 'address_1',\n",
       " 'address_2',\n",
       " 'suburb',\n",
       " 'postcode',\n",
       " 'state',\n",
       " 'date_of_birth',\n",
       " 'soc_sec_id']"
      ]
     },
     "execution_count": 55,
     "metadata": {},
     "output_type": "execute_result"
    }
   ],
   "source": [
    "df.columns.to_list()"
   ]
  },
  {
   "cell_type": "code",
   "execution_count": 59,
   "metadata": {},
   "outputs": [],
   "source": [
    "from recordlinkage import preprocessing\n",
    "df['phonetic_surname'] = preprocessing.phonetic(df['surname'], 'soundex', concat=True)"
   ]
  },
  {
   "cell_type": "code",
   "execution_count": 60,
   "metadata": {},
   "outputs": [],
   "source": [
    "indexer = index.Block('phonetic_surname')\n",
    "candidates = indexer.index(df)"
   ]
  },
  {
   "cell_type": "code",
   "execution_count": 65,
   "metadata": {},
   "outputs": [
    {
     "data": {
      "text/plain": [
       "<Compare>"
      ]
     },
     "execution_count": 65,
     "metadata": {},
     "output_type": "execute_result"
    }
   ],
   "source": [
    "from recordlinkage import Compare\n",
    "comp = Compare()\n",
    "\n",
    "comp.string('given_name', 'given_name', method='jarowinkler', label='given_name')\n",
    "comp.string('surname', 'surname', method='levenshtein', label='surname')\n",
    "comp.exact('state', 'state', label='state')\n",
    "comp.string('address_1', 'address_1', method='levenshtein', label='address_1')"
   ]
  },
  {
   "cell_type": "code",
   "execution_count": 66,
   "metadata": {},
   "outputs": [],
   "source": [
    "features = comp.compute(candidates, df)"
   ]
  },
  {
   "cell_type": "code",
   "execution_count": 67,
   "metadata": {},
   "outputs": [
    {
     "data": {
      "text/html": [
       "<div>\n",
       "<style scoped>\n",
       "    .dataframe tbody tr th:only-of-type {\n",
       "        vertical-align: middle;\n",
       "    }\n",
       "\n",
       "    .dataframe tbody tr th {\n",
       "        vertical-align: top;\n",
       "    }\n",
       "\n",
       "    .dataframe thead th {\n",
       "        text-align: right;\n",
       "    }\n",
       "</style>\n",
       "<table border=\"1\" class=\"dataframe\">\n",
       "  <thead>\n",
       "    <tr style=\"text-align: right;\">\n",
       "      <th></th>\n",
       "      <th></th>\n",
       "      <th>given_name</th>\n",
       "      <th>surname</th>\n",
       "      <th>state</th>\n",
       "      <th>address_1</th>\n",
       "    </tr>\n",
       "    <tr>\n",
       "      <th>rec_id_1</th>\n",
       "      <th>rec_id_2</th>\n",
       "      <th></th>\n",
       "      <th></th>\n",
       "      <th></th>\n",
       "      <th></th>\n",
       "    </tr>\n",
       "  </thead>\n",
       "  <tbody>\n",
       "    <tr>\n",
       "      <th>rec-264-dup-0</th>\n",
       "      <th>rec-223-org</th>\n",
       "      <td>0.000000</td>\n",
       "      <td>0.833333</td>\n",
       "      <td>0</td>\n",
       "      <td>0.368421</td>\n",
       "    </tr>\n",
       "    <tr>\n",
       "      <th rowspan=\"2\" valign=\"top\">rec-264-org</th>\n",
       "      <th>rec-223-org</th>\n",
       "      <td>0.000000</td>\n",
       "      <td>0.833333</td>\n",
       "      <td>0</td>\n",
       "      <td>0.333333</td>\n",
       "    </tr>\n",
       "    <tr>\n",
       "      <th>rec-264-dup-0</th>\n",
       "      <td>0.000000</td>\n",
       "      <td>1.000000</td>\n",
       "      <td>1</td>\n",
       "      <td>0.947368</td>\n",
       "    </tr>\n",
       "    <tr>\n",
       "      <th>rec-419-org</th>\n",
       "      <th>rec-122-org</th>\n",
       "      <td>0.595238</td>\n",
       "      <td>1.000000</td>\n",
       "      <td>0</td>\n",
       "      <td>0.500000</td>\n",
       "    </tr>\n",
       "    <tr>\n",
       "      <th>rec-276-org</th>\n",
       "      <th>rec-122-org</th>\n",
       "      <td>0.619048</td>\n",
       "      <td>1.000000</td>\n",
       "      <td>0</td>\n",
       "      <td>0.500000</td>\n",
       "    </tr>\n",
       "    <tr>\n",
       "      <th>...</th>\n",
       "      <th>...</th>\n",
       "      <td>...</td>\n",
       "      <td>...</td>\n",
       "      <td>...</td>\n",
       "      <td>...</td>\n",
       "    </tr>\n",
       "    <tr>\n",
       "      <th>rec-16-dup-0</th>\n",
       "      <th>rec-16-org</th>\n",
       "      <td>1.000000</td>\n",
       "      <td>1.000000</td>\n",
       "      <td>1</td>\n",
       "      <td>0.818182</td>\n",
       "    </tr>\n",
       "    <tr>\n",
       "      <th>rec-318-org</th>\n",
       "      <th>rec-318-dup-0</th>\n",
       "      <td>1.000000</td>\n",
       "      <td>1.000000</td>\n",
       "      <td>1</td>\n",
       "      <td>0.923077</td>\n",
       "    </tr>\n",
       "    <tr>\n",
       "      <th>rec-236-org</th>\n",
       "      <th>rec-236-dup-0</th>\n",
       "      <td>1.000000</td>\n",
       "      <td>1.000000</td>\n",
       "      <td>1</td>\n",
       "      <td>1.000000</td>\n",
       "    </tr>\n",
       "    <tr>\n",
       "      <th>rec-299-dup-0</th>\n",
       "      <th>rec-299-org</th>\n",
       "      <td>1.000000</td>\n",
       "      <td>0.875000</td>\n",
       "      <td>1</td>\n",
       "      <td>1.000000</td>\n",
       "    </tr>\n",
       "    <tr>\n",
       "      <th>rec-132-org</th>\n",
       "      <th>rec-132-dup-0</th>\n",
       "      <td>1.000000</td>\n",
       "      <td>0.857143</td>\n",
       "      <td>1</td>\n",
       "      <td>1.000000</td>\n",
       "    </tr>\n",
       "  </tbody>\n",
       "</table>\n",
       "<p>2368 rows × 4 columns</p>\n",
       "</div>"
      ],
      "text/plain": [
       "                             given_name   surname  state  address_1\n",
       "rec_id_1      rec_id_2                                             \n",
       "rec-264-dup-0 rec-223-org      0.000000  0.833333      0   0.368421\n",
       "rec-264-org   rec-223-org      0.000000  0.833333      0   0.333333\n",
       "              rec-264-dup-0    0.000000  1.000000      1   0.947368\n",
       "rec-419-org   rec-122-org      0.595238  1.000000      0   0.500000\n",
       "rec-276-org   rec-122-org      0.619048  1.000000      0   0.500000\n",
       "...                                 ...       ...    ...        ...\n",
       "rec-16-dup-0  rec-16-org       1.000000  1.000000      1   0.818182\n",
       "rec-318-org   rec-318-dup-0    1.000000  1.000000      1   0.923077\n",
       "rec-236-org   rec-236-dup-0    1.000000  1.000000      1   1.000000\n",
       "rec-299-dup-0 rec-299-org      1.000000  0.875000      1   1.000000\n",
       "rec-132-org   rec-132-dup-0    1.000000  0.857143      1   1.000000\n",
       "\n",
       "[2368 rows x 4 columns]"
      ]
     },
     "execution_count": 67,
     "metadata": {},
     "output_type": "execute_result"
    }
   ],
   "source": [
    "features"
   ]
  },
  {
   "cell_type": "code",
   "execution_count": 68,
   "metadata": {},
   "outputs": [],
   "source": [
    "features['score'] = features.sum(axis=1)"
   ]
  },
  {
   "cell_type": "code",
   "execution_count": 69,
   "metadata": {},
   "outputs": [
    {
     "data": {
      "text/html": [
       "<div>\n",
       "<style scoped>\n",
       "    .dataframe tbody tr th:only-of-type {\n",
       "        vertical-align: middle;\n",
       "    }\n",
       "\n",
       "    .dataframe tbody tr th {\n",
       "        vertical-align: top;\n",
       "    }\n",
       "\n",
       "    .dataframe thead th {\n",
       "        text-align: right;\n",
       "    }\n",
       "</style>\n",
       "<table border=\"1\" class=\"dataframe\">\n",
       "  <thead>\n",
       "    <tr style=\"text-align: right;\">\n",
       "      <th></th>\n",
       "      <th></th>\n",
       "      <th>given_name</th>\n",
       "      <th>surname</th>\n",
       "      <th>state</th>\n",
       "      <th>address_1</th>\n",
       "      <th>score</th>\n",
       "    </tr>\n",
       "    <tr>\n",
       "      <th>rec_id_1</th>\n",
       "      <th>rec_id_2</th>\n",
       "      <th></th>\n",
       "      <th></th>\n",
       "      <th></th>\n",
       "      <th></th>\n",
       "      <th></th>\n",
       "    </tr>\n",
       "  </thead>\n",
       "  <tbody>\n",
       "    <tr>\n",
       "      <th>rec-264-dup-0</th>\n",
       "      <th>rec-223-org</th>\n",
       "      <td>0.000000</td>\n",
       "      <td>0.833333</td>\n",
       "      <td>0</td>\n",
       "      <td>0.368421</td>\n",
       "      <td>1.201754</td>\n",
       "    </tr>\n",
       "    <tr>\n",
       "      <th rowspan=\"2\" valign=\"top\">rec-264-org</th>\n",
       "      <th>rec-223-org</th>\n",
       "      <td>0.000000</td>\n",
       "      <td>0.833333</td>\n",
       "      <td>0</td>\n",
       "      <td>0.333333</td>\n",
       "      <td>1.166667</td>\n",
       "    </tr>\n",
       "    <tr>\n",
       "      <th>rec-264-dup-0</th>\n",
       "      <td>0.000000</td>\n",
       "      <td>1.000000</td>\n",
       "      <td>1</td>\n",
       "      <td>0.947368</td>\n",
       "      <td>2.947368</td>\n",
       "    </tr>\n",
       "    <tr>\n",
       "      <th>rec-419-org</th>\n",
       "      <th>rec-122-org</th>\n",
       "      <td>0.595238</td>\n",
       "      <td>1.000000</td>\n",
       "      <td>0</td>\n",
       "      <td>0.500000</td>\n",
       "      <td>2.095238</td>\n",
       "    </tr>\n",
       "    <tr>\n",
       "      <th>rec-276-org</th>\n",
       "      <th>rec-122-org</th>\n",
       "      <td>0.619048</td>\n",
       "      <td>1.000000</td>\n",
       "      <td>0</td>\n",
       "      <td>0.500000</td>\n",
       "      <td>2.119048</td>\n",
       "    </tr>\n",
       "    <tr>\n",
       "      <th>...</th>\n",
       "      <th>...</th>\n",
       "      <td>...</td>\n",
       "      <td>...</td>\n",
       "      <td>...</td>\n",
       "      <td>...</td>\n",
       "      <td>...</td>\n",
       "    </tr>\n",
       "    <tr>\n",
       "      <th>rec-16-dup-0</th>\n",
       "      <th>rec-16-org</th>\n",
       "      <td>1.000000</td>\n",
       "      <td>1.000000</td>\n",
       "      <td>1</td>\n",
       "      <td>0.818182</td>\n",
       "      <td>3.818182</td>\n",
       "    </tr>\n",
       "    <tr>\n",
       "      <th>rec-318-org</th>\n",
       "      <th>rec-318-dup-0</th>\n",
       "      <td>1.000000</td>\n",
       "      <td>1.000000</td>\n",
       "      <td>1</td>\n",
       "      <td>0.923077</td>\n",
       "      <td>3.923077</td>\n",
       "    </tr>\n",
       "    <tr>\n",
       "      <th>rec-236-org</th>\n",
       "      <th>rec-236-dup-0</th>\n",
       "      <td>1.000000</td>\n",
       "      <td>1.000000</td>\n",
       "      <td>1</td>\n",
       "      <td>1.000000</td>\n",
       "      <td>4.000000</td>\n",
       "    </tr>\n",
       "    <tr>\n",
       "      <th>rec-299-dup-0</th>\n",
       "      <th>rec-299-org</th>\n",
       "      <td>1.000000</td>\n",
       "      <td>0.875000</td>\n",
       "      <td>1</td>\n",
       "      <td>1.000000</td>\n",
       "      <td>3.875000</td>\n",
       "    </tr>\n",
       "    <tr>\n",
       "      <th>rec-132-org</th>\n",
       "      <th>rec-132-dup-0</th>\n",
       "      <td>1.000000</td>\n",
       "      <td>0.857143</td>\n",
       "      <td>1</td>\n",
       "      <td>1.000000</td>\n",
       "      <td>3.857143</td>\n",
       "    </tr>\n",
       "  </tbody>\n",
       "</table>\n",
       "<p>2368 rows × 5 columns</p>\n",
       "</div>"
      ],
      "text/plain": [
       "                             given_name   surname  state  address_1     score\n",
       "rec_id_1      rec_id_2                                                       \n",
       "rec-264-dup-0 rec-223-org      0.000000  0.833333      0   0.368421  1.201754\n",
       "rec-264-org   rec-223-org      0.000000  0.833333      0   0.333333  1.166667\n",
       "              rec-264-dup-0    0.000000  1.000000      1   0.947368  2.947368\n",
       "rec-419-org   rec-122-org      0.595238  1.000000      0   0.500000  2.095238\n",
       "rec-276-org   rec-122-org      0.619048  1.000000      0   0.500000  2.119048\n",
       "...                                 ...       ...    ...        ...       ...\n",
       "rec-16-dup-0  rec-16-org       1.000000  1.000000      1   0.818182  3.818182\n",
       "rec-318-org   rec-318-dup-0    1.000000  1.000000      1   0.923077  3.923077\n",
       "rec-236-org   rec-236-dup-0    1.000000  1.000000      1   1.000000  4.000000\n",
       "rec-299-dup-0 rec-299-org      1.000000  0.875000      1   1.000000  3.875000\n",
       "rec-132-org   rec-132-dup-0    1.000000  0.857143      1   1.000000  3.857143\n",
       "\n",
       "[2368 rows x 5 columns]"
      ]
     },
     "execution_count": 69,
     "metadata": {},
     "output_type": "execute_result"
    }
   ],
   "source": [
    "features"
   ]
  },
  {
   "cell_type": "code",
   "execution_count": null,
   "metadata": {},
   "outputs": [],
   "source": []
  }
 ],
 "metadata": {
  "kernelspec": {
   "display_name": ".venv",
   "language": "python",
   "name": "python3"
  },
  "language_info": {
   "codemirror_mode": {
    "name": "ipython",
    "version": 3
   },
   "file_extension": ".py",
   "mimetype": "text/x-python",
   "name": "python",
   "nbconvert_exporter": "python",
   "pygments_lexer": "ipython3",
   "version": "3.11.5"
  }
 },
 "nbformat": 4,
 "nbformat_minor": 2
}
