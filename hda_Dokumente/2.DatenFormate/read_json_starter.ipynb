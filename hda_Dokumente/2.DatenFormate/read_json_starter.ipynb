{
 "cells": [
  {
   "cell_type": "code",
   "execution_count": 1,
   "metadata": {},
   "outputs": [],
   "source": [
    "import pandas as pd"
   ]
  },
  {
   "cell_type": "code",
   "execution_count": 3,
   "metadata": {},
   "outputs": [],
   "source": [
    "l_nested = [\n",
    "    {\n",
    "        'name': 'Alice',\n",
    "        'age': 25,\n",
    "        'id': {\n",
    "            'x': 2,\n",
    "            'y': 8\n",
    "        }\n",
    "    },\n",
    "    {\n",
    "        'name': 'Bob',\n",
    "        'id': {\n",
    "            'x': 10,\n",
    "            'y': 25\n",
    "        }\n",
    "    }\n",
    "]"
   ]
  },
  {
   "cell_type": "code",
   "execution_count": null,
   "metadata": {},
   "outputs": [],
   "source": [
    "l_complex = [\n",
    "    {\n",
    "        'label': 'X',\n",
    "        'info': {\n",
    "            'n': 'nx',\n",
    "            'm': 'mx'\n",
    "        },\n",
    "        'data': [\n",
    "            {\n",
    "                'a': 1,\n",
    "                'b': 2\n",
    "            },\n",
    "            {\n",
    "                'a': 3,\n",
    "                'b': 4\n",
    "            }\n",
    "        ]\n",
    "    },\n",
    "    {\n",
    "        'label': 'Y',\n",
    "        'info': {\n",
    "            'n': 'ny',\n",
    "            'm': 'my'\n",
    "        },\n",
    "        'data': [\n",
    "            {\n",
    "                'a': 10,\n",
    "                'b': 20\n",
    "            },\n",
    "            {\n",
    "                'a': 30,\n",
    "                'b': 40\n",
    "            }\n",
    "        ]\n",
    "    }\n",
    "]"
   ]
  },
  {
   "cell_type": "code",
   "execution_count": 2,
   "metadata": {},
   "outputs": [],
   "source": [
    "l_list = [\n",
    "    {\n",
    "        'label': 'X',\n",
    "        'info' : {\n",
    "            'n': 'nx',\n",
    "            'm': 'mx'\n",
    "        },\n",
    "        'data': [1, 2, 3]\n",
    "    },\n",
    "    {\n",
    "        'label': 'Y',\n",
    "        'info' : {\n",
    "            'n': 'ny',\n",
    "            'm': 'my'\n",
    "        },\n",
    "        'data': [10, 20, 30, 40]\n",
    "    }\n",
    "]"
   ]
  },
  {
   "cell_type": "code",
   "execution_count": null,
   "metadata": {},
   "outputs": [],
   "source": []
  }
 ],
 "metadata": {
  "kernelspec": {
   "display_name": ".venv",
   "language": "python",
   "name": "python3"
  },
  "language_info": {
   "codemirror_mode": {
    "name": "ipython",
    "version": 3
   },
   "file_extension": ".py",
   "mimetype": "text/x-python",
   "name": "python",
   "nbconvert_exporter": "python",
   "pygments_lexer": "ipython3",
   "version": "3.11.5"
  }
 },
 "nbformat": 4,
 "nbformat_minor": 2
}
